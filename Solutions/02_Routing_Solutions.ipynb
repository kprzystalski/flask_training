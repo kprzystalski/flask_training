{
 "cells": [
  {
   "cell_type": "markdown",
   "metadata": {},
   "source": [
    "#### Create a REST API routing map for grants\n",
    "\n",
    "Just to point out a few features:\n",
    "\n",
    "- the application should accept POST data to add to the grants variable,\n",
    "- set routes to get the data about grants by id via GET method,\n",
    "- set routes to get the list of grants via GET method,\n",
    "- set routes to delete a grant by id via DELETE method.\n",
    "\n",
    "Use postman or curl to check if the application fullfil the requirements"
   ]
  },
  {
   "cell_type": "code",
   "execution_count": null,
   "metadata": {},
   "outputs": [],
   "source": [
    "from flask import Flask, request, make_response\n",
    "app = Flask(__name__)\n",
    "\n",
    "grants = []\n",
    "\n",
    "@app.route('/add_grant', methods=['POST'])\n",
    "def add_grant():\n",
    "    grant = {\"name\": request.values[\"name\"],\n",
    "             \"description\": request.values[\"description\"],\n",
    "             \"price\": request.values[\"price\"]}\n",
    "    try:\n",
    "        grants.append(grant)\n",
    "        response = 'Grant ' + str(grant[\"name\"]) + \" is added\"\n",
    "    except:\n",
    "        response = 'Grant ' + str(grant[\"name\"]) + \" is NOT added\"\n",
    "        return make_response(response)\n",
    "    return make_response(response)\n",
    "\n",
    "\n",
    "@app.route('/delete_grant', methods=[\"DELETE\"])\n",
    "def delete_grant():\n",
    "    grant_id = int(request.values[\"grant_id\"])\n",
    "    try:\n",
    "        del grants[grant_id]\n",
    "        response = 'Grant ' + str(grant_id) + \" has been deleted\"\n",
    "    except:\n",
    "        response = 'Grant ' + str(grant_id) + \" doesn't exist\"\n",
    "        return make_response(response)\n",
    "    return make_response(response)\n",
    "\n",
    "\n",
    "@app.route('/grants', methods=[\"GET\"])\n",
    "def grants_list():\n",
    "    return make_response(str(grants))\n",
    "\n",
    "\n",
    "@app.route('/grant/<int:id>', methods=[\"GET\"])\n",
    "def grant(id):\n",
    "    return make_response(str(grant[id]))\n",
    "\n",
    "\n",
    "@app.route('/', methods=[\"GET\"])\n",
    "def index():\n",
    "    user_agent = request.headers.get('User-Agent')\n",
    "    return '<p>Your browser is {}</p>'.format(user_agent)\n",
    "\n",
    "if __name__ == '__main__':\n",
    "    app.run(port=7001)"
   ]
  },
  {
   "cell_type": "markdown",
   "metadata": {},
   "source": [
    "!curl -d \"param1=value1&param2=value2\" -X POST http://localhost:500/<route>"
   ]
  },
  {
   "cell_type": "markdown",
   "metadata": {},
   "source": [
    "#### Convert previous exercise and add JSON responses and requests\n",
    "\n",
    "The goal is to response with a JSON to any GET request. Interpret a JSON POST request and interpret the payload. Please keep in mind to set the content type for each GET and POST request. It should be set to application/json. Each POST should return with an error_code response:\n",
    "\n",
    "- 202 accepted,\n",
    "- 403 forbidden."
   ]
  },
  {
   "cell_type": "code",
   "execution_count": null,
   "metadata": {},
   "outputs": [],
   "source": [
    "from flask import Flask, request, make_response\n",
    "import json\n",
    "app = Flask(__name__)\n",
    "\n",
    "grants = []\n",
    "\n",
    "\n",
    "@app.route('/add_grant', methods=['POST'])\n",
    "def add_grant():\n",
    "    grant_json = json.loads(request.get_json())\n",
    "    try:\n",
    "        grants.append(grant_json)\n",
    "        response = {\"message\":'Grant ' + str(grant_json[\"name\"]) + \" is added\", \"error_code\" : 200}\n",
    "    except:\n",
    "        response = {\"message\": 'Grant ' + str(grant_json[\"name\"]) + \" is NOT added\", \"error_code\": 500}\n",
    "        return make_response(json.dumps(response))\n",
    "    return make_response(json.dumps(response))\n",
    "\n",
    "\n",
    "@app.route('/delete_grant', methods=[\"DELETE\"])\n",
    "def delete_grant():\n",
    "    grant_json = request.get_json()\n",
    "    grant_id = int(grant_json[\"grant_id\"])\n",
    "    try:\n",
    "        del grants[grant_id]\n",
    "        response = {\"message\":'Grant ' + str(grant_id) + \" has been deleted\", \"error_code\" : 200}\n",
    "    except:\n",
    "        response = {\"message\": 'Grant ' + str(grant_id) + \" doesn't exist\", \"error_code\": 500}\n",
    "        return make_response(json.dumps(response))\n",
    "    return make_response(json.dumps(response))\n",
    "\n",
    "\n",
    "@app.route('/grants', methods=[\"GET\"])\n",
    "def grants_list():\n",
    "    return make_response(json.dumps(grants))\n",
    "\n",
    "\n",
    "@app.route('/grant/<int:id>', methods=[\"GET\"])\n",
    "def grant(id):\n",
    "    return make_response(json.dumps(grant[id]))\n",
    "\n",
    "\n",
    "@app.route('/', methods=[\"GET\"])\n",
    "def index():\n",
    "    user_agent = request.headers.get('User-Agent')\n",
    "    return '<p>Your browser is {}</p>'.format(user_agent)\n",
    "\n",
    "if __name__ == '__main__':\n",
    "    app.run(port=7001)"
   ]
  },
  {
   "cell_type": "markdown",
   "metadata": {},
   "source": [
    "#### Handle the upload files for images\n",
    "\n",
    "Change the code to accept only image files. You can use curl to test your solution:"
   ]
  },
  {
   "cell_type": "code",
   "execution_count": null,
   "metadata": {},
   "outputs": [],
   "source": [
    "from flask import Flask\n",
    "from flask import request\n",
    "from flask_uploads import UploadSet, configure_uploads, IMAGES, patch_request_class\n",
    "\n",
    "\n",
    "app = Flask('Upload example')\n",
    "app.config['UPLOADS_DEFAULT_DEST'] = '/home/codete/workshop/'\n",
    "\n",
    "pdfs = UploadSet('files', IMAGES)\n",
    "configure_uploads(app, pdfs)\n",
    "patch_request_class(app)  # set maximum file size, default is 16MB\n",
    "\n",
    "@app.route('/upload', methods=['POST'])\n",
    "def upload_file():\n",
    "    filename = pdfs.save(request.files['file'])\n",
    "    file_url = pdfs.url(filename)\n",
    "    return \"Thank you: \" + str(file_url)\n",
    "\n",
    "if __name__ == '__main__':\n",
    "    app.run(host=\"0.0.0.0\")"
   ]
  },
  {
   "cell_type": "code",
   "execution_count": null,
   "metadata": {},
   "outputs": [],
   "source": [
    "!curl -F 'file=@<path>/<file>' -X POST http://127.0.0.1:5000/upload"
   ]
  }
 ],
 "metadata": {
  "kernelspec": {
   "display_name": "Python 3",
   "language": "python",
   "name": "python3"
  },
  "language_info": {
   "codemirror_mode": {
    "name": "ipython",
    "version": 3
   },
   "file_extension": ".py",
   "mimetype": "text/x-python",
   "name": "python",
   "nbconvert_exporter": "python",
   "pygments_lexer": "ipython3",
   "version": "3.6.8"
  }
 },
 "nbformat": 4,
 "nbformat_minor": 2
}
