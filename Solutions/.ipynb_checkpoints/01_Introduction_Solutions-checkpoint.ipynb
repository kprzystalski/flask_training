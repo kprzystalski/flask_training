{
 "cells": [
  {
   "cell_type": "markdown",
   "metadata": {},
   "source": [
    "# Solutions\n",
    "\n",
    "This notebook is divided by exercises. There are the following exercises in the introduction section:\n",
    "\n",
    "1. Configure the Dockerfile with Flask-FlatPages, vim, Django and PonyORM\n",
    "2. Push a image into dockerhub\n",
    "3. Pull and create a docker container\n",
    "4. Install Flask-Admin in PyCharm"
   ]
  },
  {
   "cell_type": "markdown",
   "metadata": {},
   "source": [
    "### Configure the Dockerfile\n",
    "\n",
    "Add Flask-FlatPages, Django and PonyORM packages build a new image."
   ]
  },
  {
   "cell_type": "code",
   "execution_count": null,
   "metadata": {},
   "outputs": [],
   "source": [
    "%save Dockerfile \n",
    "FROM ubuntu:18.04\n",
    "\n",
    "ENV TZ=Europe/Warsaw\n",
    "RUN ln -snf /usr/share/zoneinfo/$TZ /etc/localtime && echo $TZ > /etc/timezone\n",
    "\n",
    "RUN apt update && apt install -y software-properties-common \\\n",
    "\twget \\\n",
    "\tgnupg2 \\\n",
    "\tapt-utils \\\n",
    "\tcurl\n",
    "RUN apt install -y \\\n",
    "\tjupyter-core \\\n",
    "\tjupyter-notebook \\\n",
    "\tpython3-pip \\\n",
    "\tpython3-virtualenv \\\n",
    "\tvim \\\n",
    "\tgit \\\n",
    "\tnodejs \\\n",
    "\tnpm\n",
    "\n",
    "RUN python3 -m virtualenv --python=/usr/bin/python3 /opt/venv\n",
    "\n",
    "RUN pip3 install \\\n",
    "\tflask \\\n",
    "\tvirtualenvwrapper \\\n",
    "\tsetuptools \\\n",
    "\tpipdeptree \\\n",
    "\tdjango \\\n",
    "    Flask-FlatPages \\\n",
    "    PonyORM \n",
    "\n",
    "RUN useradd -ms /bin/bash codete\n",
    "RUN adduser codete sudo\n",
    "\n",
    "EXPOSE 8888\n",
    "EXPOSE 5000\n",
    "EXPOSE 6000\n",
    "EXPOSE 5050\n",
    "\n",
    "USER codete\n",
    "RUN mkdir /home/codete/workshop/\n",
    "WORKDIR /home/codete/workshop/\n",
    "\n",
    "CMD jupyter-notebook --ip=0.0.0.0 --NotebookApp.token='' --NotebookApp.password='' --no-browser --notebook-dir=/home/codete/workshop/"
   ]
  },
  {
   "cell_type": "code",
   "execution_count": null,
   "metadata": {},
   "outputs": [],
   "source": [
    "!docker build . -t <your_login>/<image_name>:<version>"
   ]
  },
  {
   "cell_type": "markdown",
   "metadata": {},
   "source": [
    "### Push a image into dockerhub\n",
    "\n",
    "After building the image, you need to push it to the docker hub. To do so, we need to login in the first place:"
   ]
  },
  {
   "cell_type": "code",
   "execution_count": null,
   "metadata": {},
   "outputs": [],
   "source": [
    "!docker login"
   ]
  },
  {
   "cell_type": "markdown",
   "metadata": {},
   "source": [
    "And push it:"
   ]
  },
  {
   "cell_type": "code",
   "execution_count": null,
   "metadata": {},
   "outputs": [],
   "source": [
    "!docker push <your_login>/<image_name>:<version>"
   ]
  },
  {
   "cell_type": "markdown",
   "metadata": {},
   "source": [
    "Check your docker hub profile's repositories."
   ]
  },
  {
   "cell_type": "markdown",
   "metadata": {},
   "source": [
    "### Pull and create a docker container\n",
    "\n",
    "Please pull the ``kprzystalski/flask_training`` and create it by using the ``run`` option. The port mapping can be done using ``-p``."
   ]
  },
  {
   "cell_type": "code",
   "execution_count": null,
   "metadata": {},
   "outputs": [],
   "source": [
    "!docker pull kprzystalski/flask_training:latest"
   ]
  },
  {
   "cell_type": "markdown",
   "metadata": {},
   "source": [
    "The port mapping can be done as below:"
   ]
  },
  {
   "cell_type": "code",
   "execution_count": null,
   "metadata": {},
   "outputs": [],
   "source": [
    "!docker run -it -p 8888:12345 -p 5000:12346 -p 5050:123457 -p 6000:12348 kprzystalski/flask_training:latest"
   ]
  },
  {
   "cell_type": "markdown",
   "metadata": {},
   "source": [
    "Executing bash in the container:"
   ]
  },
  {
   "cell_type": "code",
   "execution_count": null,
   "metadata": {},
   "outputs": [],
   "source": [
    "!docker run -it -p 8888:12345 -p 5000:12346 -p 5050:123457 -p 6000:12348 kprzystalski/flask_training:latest /bin/bash"
   ]
  },
  {
   "cell_type": "markdown",
   "metadata": {},
   "source": [
    "### Install Flask-Admin in PyCharm\n",
    "\n",
    "You need to go into ``Preferences``, choose ``Project Interpreter``, and set the interpreter version. Add the package by clicking the ``+`` button:\n",
    "\n",
    "![images/pycharm.png](images/pycharm.png)\n",
    "\n",
    "Check the import with the code below:"
   ]
  },
  {
   "cell_type": "code",
   "execution_count": null,
   "metadata": {},
   "outputs": [],
   "source": [
    "from flask import Flask\n",
    "from flask_admin import Admin\n",
    "\n",
    "app = Flask(__name__)\n",
    "\n",
    "admin = Admin(app, name='sample admin', template_mode='bootstrap3')\n",
    "\n",
    "app.run()"
   ]
  }
 ],
 "metadata": {
  "kernelspec": {
   "display_name": "Python 3",
   "language": "python",
   "name": "python3"
  },
  "language_info": {
   "codemirror_mode": {
    "name": "ipython",
    "version": 3
   },
   "file_extension": ".py",
   "mimetype": "text/x-python",
   "name": "python",
   "nbconvert_exporter": "python",
   "pygments_lexer": "ipython3",
   "version": "3.6.8"
  }
 },
 "nbformat": 4,
 "nbformat_minor": 2
}
