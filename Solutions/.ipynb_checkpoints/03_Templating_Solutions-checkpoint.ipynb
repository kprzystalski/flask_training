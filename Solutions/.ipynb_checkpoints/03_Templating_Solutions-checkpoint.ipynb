{
 "cells": [
  {
   "cell_type": "markdown",
   "metadata": {},
   "source": [
    "#### Build a grant webpage using Jinja2\n",
    "\n",
    "It should consist of ``block`` and ``extends`` tags for template inheritance. The following features should be implemented:\n",
    "\n",
    "- footer should be added to the layouts,\n",
    "- create one layout that adds with block the following partials: the menu, current page name and the content (below),\n",
    "- the content can be a list of grants, the grant details page, deletion page."
   ]
  },
  {
   "cell_type": "code",
   "execution_count": null,
   "metadata": {},
   "outputs": [],
   "source": [
    "<!DOCTYPE html>\n",
    "<html lang=\"en\">\n",
    "<head>\n",
    "    <meta charset=\"UTF-8\">\n",
    "    <title>Title</title>\n",
    "</head>\n",
    "<body>\n",
    " {% include 'menu.html' %}\n",
    " {% block content %}{% endblock %}\n",
    " {% include 'footer.html' %}\n",
    "</body>\n",
    "</html>"
   ]
  },
  {
   "cell_type": "code",
   "execution_count": null,
   "metadata": {},
   "outputs": [],
   "source": [
    "<a href=\"/list_of_grants\">List of grants</a>\n",
    "<a href=\"/add_grant\">List of grants</a>\n",
    "<a href=\"/delete_grant\">List of grants</a>\n",
    "<a href=\"/show_grant\">List of grants</a>"
   ]
  },
  {
   "cell_type": "code",
   "execution_count": null,
   "metadata": {},
   "outputs": [],
   "source": [
    "<div id=\"footer\">This is the footer</div>"
   ]
  },
  {
   "cell_type": "code",
   "execution_count": null,
   "metadata": {},
   "outputs": [],
   "source": [
    "<h1>Grants</h1>\n",
    "{% for grant in grants %}\n",
    "  <h3>{{ grant.title }}</h3>\n",
    "  <span class=\"date\">{{ grant.date }}</span>\n",
    "  {{ grant.description }}\n",
    "{% endfor %}"
   ]
  },
  {
   "cell_type": "markdown",
   "metadata": {},
   "source": [
    "#### Build a form using Jinja\n",
    "\n",
    "In this exercise the goal is to build two forms for creating and editing the grant details."
   ]
  },
  {
   "cell_type": "code",
   "execution_count": null,
   "metadata": {},
   "outputs": [],
   "source": [
    "<form action=\"\" method=\"post\" >\n",
    "        {{ form.hidden_tag() }}\n",
    "        <p>\n",
    "            {{ form.name.label }}\n",
    "            {{ form.name(size=150) }}\n",
    "        </p>\n",
    "        <p>\n",
    "            {{ form.description.label }}\n",
    "            {{ form.description() }}\n",
    "        </p>\n",
    "        <p>\n",
    "            {{ form.price.label }}\n",
    "            {{ form.price() }}\n",
    "        </p>\n",
    "        {{ form.crsf_token}}\n",
    "        <p>{{ form.submit() }}</p>\n",
    "</form>"
   ]
  },
  {
   "cell_type": "markdown",
   "metadata": {},
   "source": [
    "#### Build a simple macro (helper) to distinguish between PhD grants and Institute grants\n",
    "\n",
    "Change the above macro and add a new argument of grants, to distinguish if it's a grant for PhD students, PostDocs or University Institutes. Please use the ``if`` and ``elif`` tags."
   ]
  },
  {
   "cell_type": "code",
   "execution_count": null,
   "metadata": {},
   "outputs": [],
   "source": [
    "%%writefile grants_list.html\n",
    "\n",
    "{% macro show_grant(grant) %}\n",
    "    <h3>{{ grant.title }}</h3>\n",
    "    <span class=\"date\">{{ grant.date }}</span>\n",
    "    {% if grant.target == \"student\" %}\n",
    "     <div>PhD students</div>\n",
    "    {% elif grant.target == \"postdoc\" %}\n",
    "     <div>PostDocs</div>\n",
    "    {% else %}\n",
    "     <div>Institutions</div>\n",
    "    {% endif % }\n",
    "    \n",
    "    {{ grant.description }}\n",
    "{% endmacro %}\n",
    "\n",
    "<h1>Grants</h1>\n",
    "{% for grant in grants %}\n",
    "    {{ show_grant(grant) }}\n",
    "{% endfor %}"
   ]
  },
  {
   "cell_type": "markdown",
   "metadata": {},
   "source": [
    "#### Add bootstrap CSS styles\n",
    "\n",
    "Please take a look at the bootstrap component CSS styles [https://getbootstrap.com/docs/4.3/components/alerts/](https://getbootstrap.com/docs/4.3/components/alerts/) and add the styles to your list of grants and grant detail. Please modify the nav bar to be more appropriate for our example app."
   ]
  },
  {
   "cell_type": "code",
   "execution_count": null,
   "metadata": {},
   "outputs": [],
   "source": [
    "from flask_bootstrap import Bootstrap\n",
    "from flask import Flask, render_template\n",
    "from flask import request\n",
    "app = Flask(__name__)\n",
    "Bootstrap(app)\n",
    "\n",
    "@app.route('/')\n",
    "def index():\n",
    "    return render_template('grants_list.html')\n",
    "\n",
    "if __name__ == '__main__':\n",
    "    app.run(host=\"0.0.0.0\")"
   ]
  },
  {
   "cell_type": "code",
   "execution_count": null,
   "metadata": {},
   "outputs": [],
   "source": [
    "<a href=\"/list_of_grants\" class=\"btn btn-info\" role=\"button\">List of grants</a>\n",
    "<a href=\"/add_grant\" class=\"btn btn-info\" role=\"button\">List of grants</a>\n",
    "<a href=\"/delete_grant\" class=\"btn btn-info\" role=\"button\">List of grants</a>\n",
    "<a href=\"/show_grant\" class=\"btn btn-info\" role=\"button\">List of grants</a>"
   ]
  }
 ],
 "metadata": {
  "kernelspec": {
   "display_name": "Python 3",
   "language": "python",
   "name": "python3"
  },
  "language_info": {
   "codemirror_mode": {
    "name": "ipython",
    "version": 3
   },
   "file_extension": ".py",
   "mimetype": "text/x-python",
   "name": "python",
   "nbconvert_exporter": "python",
   "pygments_lexer": "ipython3",
   "version": "3.6.8"
  }
 },
 "nbformat": 4,
 "nbformat_minor": 2
}
