{
 "cells": [
  {
   "cell_type": "markdown",
   "metadata": {},
   "source": [
    "#### Move the grants and students functionality into two separate blueprints\n",
    "\n",
    "The goal is to build two separate modules (blueprints), each in different directory with own modules, routes, and views. The first one can be places in the students directory, where the views.py can look as follows:"
   ]
  },
  {
   "cell_type": "code",
   "execution_count": null,
   "metadata": {},
   "outputs": [],
   "source": [
    "from flask import Blueprint\n",
    "\n",
    "student_pages = Blueprint(__name__, 'StudentBP',\n",
    "                        template_folder='templates')\n",
    "\n",
    "@student_pages.route('/add_student')\n",
    "def add_student():\n",
    "    return \"Student added\"\n",
    "\n"
   ]
  },
  {
   "cell_type": "markdown",
   "metadata": {},
   "source": [
    "The second one can be called grants where the view.py looks like below:"
   ]
  },
  {
   "cell_type": "code",
   "execution_count": null,
   "metadata": {},
   "outputs": [],
   "source": [
    "from flask import Blueprint\n",
    "\n",
    "grants_pages = Blueprint('grant_pages', __name__,\n",
    "                        template_folder='templates')\n",
    "\n",
    "@grants_pages.route('/add_grant')\n",
    "def add_grant():\n",
    "    return \"Grant added\""
   ]
  },
  {
   "cell_type": "markdown",
   "metadata": {},
   "source": [
    "Each blueprint can be obviously extended with the rest of functionality per feature and combined together in the app.py as below:"
   ]
  },
  {
   "cell_type": "code",
   "execution_count": null,
   "metadata": {},
   "outputs": [],
   "source": [
    "from flask import Blueprint\n",
    "\n",
    "student_pages = Blueprint(__name__, 'StudentBP',\n",
    "                        template_folder='templates')\n",
    "\n",
    "@student_pages.route('/add_student')\n",
    "def add_student():\n",
    "    return \"Student added\""
   ]
  }
 ],
 "metadata": {
  "kernelspec": {
   "display_name": "Python 3",
   "language": "python",
   "name": "python3"
  },
  "language_info": {
   "codemirror_mode": {
    "name": "ipython",
    "version": 3
   },
   "file_extension": ".py",
   "mimetype": "text/x-python",
   "name": "python",
   "nbconvert_exporter": "python",
   "pygments_lexer": "ipython3",
   "version": "3.6.8"
  }
 },
 "nbformat": 4,
 "nbformat_minor": 2
}
