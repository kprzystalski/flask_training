{
 "cells": [
  {
   "cell_type": "markdown",
   "metadata": {},
   "source": [
    "#### Build a model for phd students (grant participants) in SQLAlchemy\n",
    "\n",
    "Please use a relation in the new model. A basic relationship can be made using ``Column(Integer, ForeignKey('grant.id'))``."
   ]
  },
  {
   "cell_type": "code",
   "execution_count": null,
   "metadata": {},
   "outputs": [],
   "source": [
    "from flask_sqlalchemy import SQLAlchemy\n",
    "\n",
    "app = Flask(__name__)\n",
    "app.config['SQLALCHEMY_DATABASE_URI'] = 'sqlite:////Users/kprzystalski/data.sqlite'\n",
    "app.config['SQLALCHEMY_TRACK_MODIFICATIONS'] = False\n",
    "\n",
    "db = SQLAlchemy(app)"
   ]
  },
  {
   "cell_type": "code",
   "execution_count": null,
   "metadata": {},
   "outputs": [],
   "source": [
    "from sqlalchemy import ForeignKey, Integer\n",
    "from dbexample import db\n",
    "\n",
    "class Grant(db.Model):\n",
    "\n",
    "    __table_args__ = {'extend_existing': True}\n",
    "\n",
    "    id = db.Column(db.Integer, primary_key=True)\n",
    "    name = db.Column(db.String(80))\n",
    "    description = db.Column(db.String(150))\n",
    "    price = db.Column(db.Integer)\n",
    "\n",
    "    def __init__(self, title, description, price):\n",
    "        self.name = title\n",
    "        self.description = description\n",
    "        self.price = price\n",
    "\n",
    "    def get_name(self):\n",
    "        return self.name\n",
    "\n",
    "\n",
    "def add_new_grant(name, description, price):\n",
    "    grant = Grant(name, description, price)\n",
    "    db.session.add(grant)\n",
    "    db.session.commit()\n",
    "\n",
    "def delete_existing_grant(id):\n",
    "    grant = Grant.query.get(id)\n",
    "    db.session.delete(grant)\n",
    "    db.session.commit()\n",
    "\n",
    "def add_student(name, grant_id):\n",
    "    student = Student(name, grant_id)\n",
    "    db.session.add(student)\n",
    "    db.session.commit()\n",
    "\n",
    "def get_all_students():\n",
    "    return Grant.query.all()\n",
    "\n",
    "class Student(db.Model):\n",
    "\n",
    "    __table_args__ = {'extend_existing': True}\n",
    "\n",
    "    id = db.Column(db.Integer, primary_key=True)\n",
    "    name = db.Column(db.String(80))\n",
    "    grant_id = db.Column(Integer, ForeignKey('grant.id'))\n",
    "\n",
    "    def __init__(self, name, grant_id):\n",
    "        self.name = name\n",
    "        self.grant_id = grant_id"
   ]
  },
  {
   "cell_type": "markdown",
   "metadata": {},
   "source": [
    "#### Add Django Admin model to both previously added models\n",
    "\n",
    "Please add admin model for Produkt and Reviews."
   ]
  },
  {
   "cell_type": "code",
   "execution_count": null,
   "metadata": {},
   "outputs": [],
   "source": [
    "from django.db import models\n",
    "\n",
    "class Produkt(models.Model):\n",
    "    title = models.TextField()\n",
    "    price = models.IntegerField(default=0)\n",
    "    description = models.TextField()\n",
    "    quantity = models.IntegerField(default=0)\n",
    "\n",
    "    def __str__(self):\n",
    "        return self.title\n",
    "\n",
    "class Review(models.Model):\n",
    "    review = models.TextField()\n",
    "    produkt_id = models.ForeignKey(Produkt,on_delete=models.CASCADE)"
   ]
  },
  {
   "cell_type": "code",
   "execution_count": null,
   "metadata": {},
   "outputs": [],
   "source": [
    "from django.contrib import admin\n",
    "from .models import Produkt, Review\n",
    "\n",
    "# Register your models here.\n",
    "@admin.register(Produkt)\n",
    "class ProduktAdmin(admin.ModelAdmin):\n",
    "    list_display = ['title','quantity']\n",
    "\n",
    "@admin.register(Review)\n",
    "class ReviewAdmin(admin.ModelAdmin):\n",
    "    list_display = ['review','produkt_id']"
   ]
  },
  {
   "cell_type": "markdown",
   "metadata": {},
   "source": [
    "#### Add into our flask app WTF forms and validators\n",
    "\n",
    "Please create a WTF form that creates an Grant form."
   ]
  },
  {
   "cell_type": "code",
   "execution_count": null,
   "metadata": {},
   "outputs": [],
   "source": [
    "from flask import Flask\n",
    "from flask_wtf import CSRFProtect\n",
    "\n",
    "app = Flask(__name__)\n",
    "app.config['SECRET_KEY'] = \"SecretKey\"\n",
    "\n",
    "csrf = CSRFProtect()"
   ]
  },
  {
   "cell_type": "code",
   "execution_count": null,
   "metadata": {},
   "outputs": [],
   "source": [
    "@app.route('/add_grant_form', methods=['GET', 'POST'])\n",
    "def add_grant_form():\n",
    "    form = GrantForm()\n",
    "    if form.validate_on_submit():\n",
    "        add_new_grant(str(form.data[\"name\"]), str(form.data[\"description\"]), int(form.data[\"price\"]))\n",
    "        flash('Product was added')\n",
    "        return redirect('/grant_added')\n",
    "    return render_template('grant_form.html', form=form)"
   ]
  },
  {
   "cell_type": "code",
   "execution_count": null,
   "metadata": {},
   "outputs": [],
   "source": [
    "@app.route('/add_grant_form', methods=['GET', 'POST'])\n",
    "def add_grant_form():\n",
    "    form = GrantForm()\n",
    "    if form.validate_on_submit():\n",
    "        add_new_grant(str(form.data[\"name\"]), str(form.data[\"description\"]), int(form.data[\"price\"]))\n",
    "        flash('Product was added')\n",
    "        return redirect('/grant_added')\n",
    "    return render_template('grant_form.html', form=form)"
   ]
  }
 ],
 "metadata": {
  "kernelspec": {
   "display_name": "Python 3",
   "language": "python",
   "name": "python3"
  },
  "language_info": {
   "codemirror_mode": {
    "name": "ipython",
    "version": 3
   },
   "file_extension": ".py",
   "mimetype": "text/x-python",
   "name": "python",
   "nbconvert_exporter": "python",
   "pygments_lexer": "ipython3",
   "version": "3.6.8"
  }
 },
 "nbformat": 4,
 "nbformat_minor": 2
}
