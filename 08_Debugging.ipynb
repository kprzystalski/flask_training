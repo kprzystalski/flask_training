{
 "cells": [
  {
   "cell_type": "markdown",
   "metadata": {},
   "source": [
    "# Debugging with PyCharm\n",
    "\n",
    "There are many ways of how to debug your application. The easiest way is to set the ``debug`` flag within the ``run`` method or the environment variable. "
   ]
  },
  {
   "cell_type": "code",
   "execution_count": null,
   "metadata": {},
   "outputs": [],
   "source": [
    "%env FLASK_DEBUG=1"
   ]
  },
  {
   "cell_type": "markdown",
   "metadata": {},
   "source": [
    "The more complex way of debugging is just by setting the breakpoints on our local code. After setting the breakpoints, you need to run your app in debug more in PyCharm."
   ]
  },
  {
   "cell_type": "markdown",
   "metadata": {},
   "source": [
    "You can also set breakpoints for a remote code. Instead of running your app using the typical Python run environemtn configuration, you can also choose the ``Python Remote Debug`` configuration. Please keep in mind that you need to install the ``pydevd``, import it and add the following code to you app:"
   ]
  },
  {
   "cell_type": "code",
   "execution_count": null,
   "metadata": {},
   "outputs": [],
   "source": [
    "pydevd.settrace('localhost', port=$SERVER_PORT, stdoutToServer=True, stderrToServer=True)"
   ]
  },
  {
   "cell_type": "markdown",
   "metadata": {},
   "source": [
    "You should share your PyCharm code with the docker container to have same code that you work on before setting the breakpoints."
   ]
  }
 ],
 "metadata": {
  "kernelspec": {
   "display_name": "Python 3",
   "language": "python",
   "name": "python3"
  },
  "language_info": {
   "codemirror_mode": {
    "name": "ipython",
    "version": 3
   },
   "file_extension": ".py",
   "mimetype": "text/x-python",
   "name": "python",
   "nbconvert_exporter": "python",
   "pygments_lexer": "ipython3",
   "version": "3.6.8"
  }
 },
 "nbformat": 4,
 "nbformat_minor": 2
}
