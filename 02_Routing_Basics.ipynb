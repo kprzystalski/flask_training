{
 "cells": [
  {
   "cell_type": "markdown",
   "metadata": {},
   "source": [
    "# Basic routing\n",
    "\n",
    "In this section we build a simple RESTful API application that use JSON to communicate using different HTTP methods. Before that we need to learn how to define a routing map. The easiest way and most popular of adding new routing map entries can be done with the ``@app.route`` annotation."
   ]
  },
  {
   "cell_type": "code",
   "execution_count": 6,
   "metadata": {},
   "outputs": [
    {
     "name": "stdout",
     "output_type": "stream",
     "text": [
      " * Serving Flask app \"__main__\" (lazy loading)\n",
      " * Environment: production\n",
      "   WARNING: This is a development server. Do not use it in a production deployment.\n",
      "   Use a production WSGI server instead.\n",
      " * Debug mode: off\n"
     ]
    },
    {
     "name": "stderr",
     "output_type": "stream",
     "text": [
      " * Running on http://0.0.0.0:5000/ (Press CTRL+C to quit)\n",
      "172.17.0.1 - - [02/Aug/2019 19:37:36] \"GET / HTTP/1.1\" 200 -\n",
      "172.17.0.1 - - [02/Aug/2019 19:37:38] \"GET /favicon.ico HTTP/1.1\" 404 -\n"
     ]
    }
   ],
   "source": [
    "from flask import request\n",
    "from flask import Flask\n",
    "\n",
    "app = Flask(__name__)\n",
    "\n",
    "@app.route('/')\n",
    "def index():\n",
    "    user_agent = request.headers.get('User-Agent')\n",
    "    return '<p>Your browser is {}</p>'.format(user_agent)\n",
    "\n",
    "if __name__ == '__main__':\n",
    "    app.run(host=\"0.0.0.0\")"
   ]
  },
  {
   "cell_type": "markdown",
   "metadata": {},
   "source": [
    "You can also add new routing map entries by using the ``add_url_rule`` method:"
   ]
  },
  {
   "cell_type": "code",
   "execution_count": 7,
   "metadata": {},
   "outputs": [
    {
     "name": "stdout",
     "output_type": "stream",
     "text": [
      " * Serving Flask app \"__main__\" (lazy loading)\n",
      " * Environment: production\n",
      "   WARNING: This is a development server. Do not use it in a production deployment.\n",
      "   Use a production WSGI server instead.\n",
      " * Debug mode: off\n"
     ]
    },
    {
     "name": "stderr",
     "output_type": "stream",
     "text": [
      " * Running on http://0.0.0.0:5000/ (Press CTRL+C to quit)\n",
      "172.17.0.1 - - [02/Aug/2019 19:43:07] \"GET / HTTP/1.1\" 200 -\n"
     ]
    }
   ],
   "source": [
    "from flask import Flask\n",
    "\n",
    "app = Flask(__name__)\n",
    "\n",
    "def index():\n",
    "    return '<h1>Hello World!</h1>'\n",
    "\n",
    "app.add_url_rule('/', 'index', index)\n",
    "\n",
    "if __name__ == '__main__':\n",
    "    app.run(host=\"0.0.0.0\")"
   ]
  },
  {
   "cell_type": "markdown",
   "metadata": {},
   "source": [
    "To build a RESTful application, we also need to specify the methods that we want to use for a given request. You can do it using the ``methods`` parameter:"
   ]
  },
  {
   "cell_type": "code",
   "execution_count": 16,
   "metadata": {},
   "outputs": [
    {
     "name": "stdout",
     "output_type": "stream",
     "text": [
      " * Serving Flask app \"__main__\" (lazy loading)\n",
      " * Environment: production\n",
      "   WARNING: This is a development server. Do not use it in a production deployment.\n",
      "   Use a production WSGI server instead.\n",
      " * Debug mode: off\n"
     ]
    },
    {
     "name": "stderr",
     "output_type": "stream",
     "text": [
      " * Running on http://0.0.0.0:5000/ (Press CTRL+C to quit)\n",
      "172.17.0.1 - - [03/Aug/2019 15:11:53] \"GET / HTTP/1.1\" 200 -\n",
      "172.17.0.1 - - [03/Aug/2019 15:12:05] \"POST /hello HTTP/1.1\" 200 -\n"
     ]
    }
   ],
   "source": [
    "from flask import request\n",
    "from flask import Flask\n",
    "\n",
    "app = Flask(__name__)\n",
    "\n",
    "@app.route('/',methods=['GET'])\n",
    "def hello_world():\n",
    "    user_agent = request.headers.get('User-Agent')\n",
    "    return 'GET'\n",
    "\n",
    "@app.route('/hello',methods=['POST'])\n",
    "def hello_post():\n",
    "    user_agent = request.headers.get('User-Agent')\n",
    "    return 'POST'\n",
    "\n",
    "if __name__ == '__main__':\n",
    "    app.run(host=\"0.0.0.0\")"
   ]
  },
  {
   "cell_type": "markdown",
   "metadata": {},
   "source": [
    "You can test the two urls using:\n",
    "- GET - the browser\n",
    "- POST - curl or postman (https://www.getpostman.com/).\n",
    "\n",
    "Keep in mind of the port mapping if used outside of the docker container. the curl example for POST request looks like below. You can easily change the url and the HTTP method into ``GET``."
   ]
  },
  {
   "cell_type": "code",
   "execution_count": null,
   "metadata": {},
   "outputs": [],
   "source": [
    "!curl -X POST http://localhost:5000/hello"
   ]
  },
  {
   "cell_type": "markdown",
   "metadata": {},
   "source": [
    "A different way of running the flask application is to set the main application python file in the ``FLASK_APP`` variable and run it as a few cells below."
   ]
  },
  {
   "cell_type": "code",
   "execution_count": 28,
   "metadata": {},
   "outputs": [
    {
     "name": "stdout",
     "output_type": "stream",
     "text": [
      "env: FLASK_APP=\"flask_routing1.py\"\n"
     ]
    }
   ],
   "source": [
    "%env FLASK_APP=flask_sample.py"
   ]
  },
  {
   "cell_type": "markdown",
   "metadata": {},
   "source": [
    "For Unix systems, you should also export environment variables to execute Python with UTF-8 encoding:"
   ]
  },
  {
   "cell_type": "code",
   "execution_count": 25,
   "metadata": {},
   "outputs": [
    {
     "name": "stdout",
     "output_type": "stream",
     "text": [
      "env: LC_ALL=C.UTF-8\n",
      "env: LANG=C.UTF-8\n"
     ]
    }
   ],
   "source": [
    "%env LC_ALL=C.UTF-8\n",
    "%env LANG=C.UTF-8"
   ]
  },
  {
   "cell_type": "markdown",
   "metadata": {},
   "source": [
    "You can also export the variables from console using the export command or set in Windows."
   ]
  },
  {
   "cell_type": "code",
   "execution_count": 29,
   "metadata": {},
   "outputs": [
    {
     "name": "stdout",
     "output_type": "stream",
     "text": [
      "Writing flaskrouting1.py\n"
     ]
    }
   ],
   "source": [
    "%%writefile flaskrouting1.py\n",
    "from flask import request\n",
    "from flask import Flask\n",
    "\n",
    "app = Flask(__name__)\n",
    "\n",
    "@app.route('/',methods=['GET'])\n",
    "def hello_world():\n",
    "    user_agent = request.headers.get('User-Agent')\n",
    "    return 'GET'\n",
    "\n",
    "@app.route('/hello',methods=['POST'])\n",
    "def hello_post():\n",
    "    user_agent = request.headers.get('User-Agent')\n",
    "    return 'POST'"
   ]
  },
  {
   "cell_type": "markdown",
   "metadata": {},
   "source": [
    "Flask be run as following:"
   ]
  },
  {
   "cell_type": "code",
   "execution_count": 32,
   "metadata": {},
   "outputs": [
    {
     "name": "stdout",
     "output_type": "stream",
     "text": [
      "env: FLASK_APP=flaskrouting1.py\n",
      " * Serving Flask app \"flaskrouting1.py\"\n",
      " * Environment: production\n",
      "\u001b[31m   WARNING: This is a development server. Do not use it in a production deployment.\u001b[0m\n",
      "\u001b[2m   Use a production WSGI server instead.\u001b[0m\n",
      " * Debug mode: off\n",
      " * Running on http://127.0.0.1:5000/ (Press CTRL+C to quit)\n",
      "^C\n"
     ]
    }
   ],
   "source": [
    "%env FLASK_APP=flaskrouting1.py\n",
    "!flask run"
   ]
  },
  {
   "cell_type": "markdown",
   "metadata": {},
   "source": [
    "# Dynamic routing\n",
    "\n",
    "Dynamic routing is when you are able to send some information to the method that handles a specific route request. Below you can find an example of two functions where one gets one argument."
   ]
  },
  {
   "cell_type": "code",
   "execution_count": null,
   "metadata": {},
   "outputs": [],
   "source": [
    "from flask import Flask\n",
    "app = Flask(__name__)\n",
    "\n",
    "@app.route('/')\n",
    "def index():\n",
    "    return 'Hello World!'\n",
    "\n",
    "@app.route('/grant/<title>')\n",
    "def grant(title):\n",
    "    return '<h1>Grant title: {}!</h1>'.format(title)"
   ]
  },
  {
   "cell_type": "markdown",
   "metadata": {},
   "source": [
    "We can also set a specific type of the expected parameter like an ID that in many cases should be an integer:"
   ]
  },
  {
   "cell_type": "code",
   "execution_count": null,
   "metadata": {},
   "outputs": [],
   "source": [
    "from flask import Flask\n",
    "app = Flask(__name__)\n",
    "\n",
    "@app.route('/')\n",
    "def index():\n",
    "    return 'Hello World!'\n",
    "\n",
    "@app.route('/grant/<int:grant_id>')\n",
    "def grant(grant_id):\n",
    "    return '<h1>Grant id: {}!</h1>'.format(grant_id)"
   ]
  },
  {
   "cell_type": "markdown",
   "metadata": {},
   "source": [
    "# Context\n",
    "\n",
    "The application and request context is an important part of each flask application. Below you can find two application context variables and two request context variables. The first two are used to get the instance and object of the application.\n",
    "\n",
    "| variable  | Description |\n",
    "|---|---|\n",
    "| current_app  | Application context. The application instance for the active application |\n",
    "| g  | An object that the application can use for temporary storage during the handling of a request. This variable is reset with each request  |\n",
    "| request  | The request object, which encapsulates the contents of an HTTP request sent by the client  |\n",
    "| session  | The user session, a dictionary that the application can use to store values that are “remembered” between requests  |\n"
   ]
  },
  {
   "cell_type": "code",
   "execution_count": 10,
   "metadata": {},
   "outputs": [
    {
     "ename": "RuntimeError",
     "evalue": "Working outside of application context.\n\nThis typically means that you attempted to use functionality that needed\nto interface with the current application object in some way. To solve\nthis, set up an application context with app.app_context().  See the\ndocumentation for more information.",
     "output_type": "error",
     "traceback": [
      "\u001b[0;31m\u001b[0m",
      "\u001b[0;31mRuntimeError\u001b[0mTraceback (most recent call last)",
      "\u001b[0;32m<ipython-input-10-aa9faced2c74>\u001b[0m in \u001b[0;36m<module>\u001b[0;34m()\u001b[0m\n\u001b[1;32m      3\u001b[0m \u001b[0mapp\u001b[0m \u001b[0;34m=\u001b[0m \u001b[0mFlask\u001b[0m\u001b[0;34m(\u001b[0m\u001b[0;34m\"Test\"\u001b[0m\u001b[0;34m)\u001b[0m\u001b[0;34m\u001b[0m\u001b[0;34m\u001b[0m\u001b[0m\n\u001b[1;32m      4\u001b[0m \u001b[0;34m\u001b[0m\u001b[0m\n\u001b[0;32m----> 5\u001b[0;31m \u001b[0mcurrent_app\u001b[0m\u001b[0;34m.\u001b[0m\u001b[0mname\u001b[0m\u001b[0;34m\u001b[0m\u001b[0;34m\u001b[0m\u001b[0m\n\u001b[0m\u001b[1;32m      6\u001b[0m \u001b[0;34m\u001b[0m\u001b[0m\n\u001b[1;32m      7\u001b[0m \u001b[0mapp_ctx\u001b[0m \u001b[0;34m=\u001b[0m \u001b[0mapp\u001b[0m\u001b[0;34m.\u001b[0m\u001b[0mapp_context\u001b[0m\u001b[0;34m(\u001b[0m\u001b[0;34m)\u001b[0m\u001b[0;34m\u001b[0m\u001b[0;34m\u001b[0m\u001b[0m\n",
      "\u001b[0;32m/usr/local/lib/python3.6/dist-packages/werkzeug/local.py\u001b[0m in \u001b[0;36m__getattr__\u001b[0;34m(self, name)\u001b[0m\n\u001b[1;32m    346\u001b[0m         \u001b[0;32mif\u001b[0m \u001b[0mname\u001b[0m \u001b[0;34m==\u001b[0m \u001b[0;34m\"__members__\"\u001b[0m\u001b[0;34m:\u001b[0m\u001b[0;34m\u001b[0m\u001b[0;34m\u001b[0m\u001b[0m\n\u001b[1;32m    347\u001b[0m             \u001b[0;32mreturn\u001b[0m \u001b[0mdir\u001b[0m\u001b[0;34m(\u001b[0m\u001b[0mself\u001b[0m\u001b[0;34m.\u001b[0m\u001b[0m_get_current_object\u001b[0m\u001b[0;34m(\u001b[0m\u001b[0;34m)\u001b[0m\u001b[0;34m)\u001b[0m\u001b[0;34m\u001b[0m\u001b[0;34m\u001b[0m\u001b[0m\n\u001b[0;32m--> 348\u001b[0;31m         \u001b[0;32mreturn\u001b[0m \u001b[0mgetattr\u001b[0m\u001b[0;34m(\u001b[0m\u001b[0mself\u001b[0m\u001b[0;34m.\u001b[0m\u001b[0m_get_current_object\u001b[0m\u001b[0;34m(\u001b[0m\u001b[0;34m)\u001b[0m\u001b[0;34m,\u001b[0m \u001b[0mname\u001b[0m\u001b[0;34m)\u001b[0m\u001b[0;34m\u001b[0m\u001b[0;34m\u001b[0m\u001b[0m\n\u001b[0m\u001b[1;32m    349\u001b[0m \u001b[0;34m\u001b[0m\u001b[0m\n\u001b[1;32m    350\u001b[0m     \u001b[0;32mdef\u001b[0m \u001b[0m__setitem__\u001b[0m\u001b[0;34m(\u001b[0m\u001b[0mself\u001b[0m\u001b[0;34m,\u001b[0m \u001b[0mkey\u001b[0m\u001b[0;34m,\u001b[0m \u001b[0mvalue\u001b[0m\u001b[0;34m)\u001b[0m\u001b[0;34m:\u001b[0m\u001b[0;34m\u001b[0m\u001b[0;34m\u001b[0m\u001b[0m\n",
      "\u001b[0;32m/usr/local/lib/python3.6/dist-packages/werkzeug/local.py\u001b[0m in \u001b[0;36m_get_current_object\u001b[0;34m(self)\u001b[0m\n\u001b[1;32m    305\u001b[0m         \"\"\"\n\u001b[1;32m    306\u001b[0m         \u001b[0;32mif\u001b[0m \u001b[0;32mnot\u001b[0m \u001b[0mhasattr\u001b[0m\u001b[0;34m(\u001b[0m\u001b[0mself\u001b[0m\u001b[0;34m.\u001b[0m\u001b[0m__local\u001b[0m\u001b[0;34m,\u001b[0m \u001b[0;34m\"__release_local__\"\u001b[0m\u001b[0;34m)\u001b[0m\u001b[0;34m:\u001b[0m\u001b[0;34m\u001b[0m\u001b[0;34m\u001b[0m\u001b[0m\n\u001b[0;32m--> 307\u001b[0;31m             \u001b[0;32mreturn\u001b[0m \u001b[0mself\u001b[0m\u001b[0;34m.\u001b[0m\u001b[0m__local\u001b[0m\u001b[0;34m(\u001b[0m\u001b[0;34m)\u001b[0m\u001b[0;34m\u001b[0m\u001b[0;34m\u001b[0m\u001b[0m\n\u001b[0m\u001b[1;32m    308\u001b[0m         \u001b[0;32mtry\u001b[0m\u001b[0;34m:\u001b[0m\u001b[0;34m\u001b[0m\u001b[0;34m\u001b[0m\u001b[0m\n\u001b[1;32m    309\u001b[0m             \u001b[0;32mreturn\u001b[0m \u001b[0mgetattr\u001b[0m\u001b[0;34m(\u001b[0m\u001b[0mself\u001b[0m\u001b[0;34m.\u001b[0m\u001b[0m__local\u001b[0m\u001b[0;34m,\u001b[0m \u001b[0mself\u001b[0m\u001b[0;34m.\u001b[0m\u001b[0m__name__\u001b[0m\u001b[0;34m)\u001b[0m\u001b[0;34m\u001b[0m\u001b[0;34m\u001b[0m\u001b[0m\n",
      "\u001b[0;32m/usr/local/lib/python3.6/dist-packages/flask/globals.py\u001b[0m in \u001b[0;36m_find_app\u001b[0;34m()\u001b[0m\n\u001b[1;32m     50\u001b[0m     \u001b[0mtop\u001b[0m \u001b[0;34m=\u001b[0m \u001b[0m_app_ctx_stack\u001b[0m\u001b[0;34m.\u001b[0m\u001b[0mtop\u001b[0m\u001b[0;34m\u001b[0m\u001b[0;34m\u001b[0m\u001b[0m\n\u001b[1;32m     51\u001b[0m     \u001b[0;32mif\u001b[0m \u001b[0mtop\u001b[0m \u001b[0;32mis\u001b[0m \u001b[0;32mNone\u001b[0m\u001b[0;34m:\u001b[0m\u001b[0;34m\u001b[0m\u001b[0;34m\u001b[0m\u001b[0m\n\u001b[0;32m---> 52\u001b[0;31m         \u001b[0;32mraise\u001b[0m \u001b[0mRuntimeError\u001b[0m\u001b[0;34m(\u001b[0m\u001b[0m_app_ctx_err_msg\u001b[0m\u001b[0;34m)\u001b[0m\u001b[0;34m\u001b[0m\u001b[0;34m\u001b[0m\u001b[0m\n\u001b[0m\u001b[1;32m     53\u001b[0m     \u001b[0;32mreturn\u001b[0m \u001b[0mtop\u001b[0m\u001b[0;34m.\u001b[0m\u001b[0mapp\u001b[0m\u001b[0;34m\u001b[0m\u001b[0;34m\u001b[0m\u001b[0m\n\u001b[1;32m     54\u001b[0m \u001b[0;34m\u001b[0m\u001b[0m\n",
      "\u001b[0;31mRuntimeError\u001b[0m: Working outside of application context.\n\nThis typically means that you attempted to use functionality that needed\nto interface with the current application object in some way. To solve\nthis, set up an application context with app.app_context().  See the\ndocumentation for more information."
     ]
    }
   ],
   "source": [
    "from flask import current_app\n",
    "\n",
    "app = Flask(\"Test\")\n",
    "\n",
    "current_app.name # an error is returned here, don't panic ;)"
   ]
  },
  {
   "cell_type": "markdown",
   "metadata": {},
   "source": [
    "To get the current application name we need to push the current application context first:"
   ]
  },
  {
   "cell_type": "code",
   "execution_count": 11,
   "metadata": {},
   "outputs": [],
   "source": [
    "app_ctx = app.app_context()\n",
    "app_ctx.push()\n",
    "current_app.name"
   ]
  },
  {
   "cell_type": "markdown",
   "metadata": {},
   "source": [
    "The ``g`` is a namespace object that is available everywhere in our application. You can think about it as a global variable. In the example below we initialize the database connection whenever ``get_db`` function is invoked and the ``_database`` variable isn't initialized. The annotation ``@app.teardown_appcontext`` sets a function that is invoked when the context is closing."
   ]
  },
  {
   "cell_type": "code",
   "execution_count": null,
   "metadata": {},
   "outputs": [],
   "source": [
    "from flask import g\n",
    "import sqlite3\n",
    "\n",
    "DATABASE = 'grants.db'\n",
    "\n",
    "def get_db():\n",
    "    db = getattr(g, '_database', None)\n",
    "    if db is None:\n",
    "        db = g._database = sqlite3.connect(DATABASE)\n",
    "    return db\n",
    "\n",
    "@app.teardown_appcontext\n",
    "def close_connection(exception):\n",
    "    db = getattr(g, '_database', None)\n",
    "    if db is not None:\n",
    "        db.close()"
   ]
  },
  {
   "cell_type": "markdown",
   "metadata": {},
   "source": [
    "# Routing map\n",
    "\n",
    "To check the whole routing map for our application, you can just use the ``url_map`` object:"
   ]
  },
  {
   "cell_type": "code",
   "execution_count": 13,
   "metadata": {},
   "outputs": [
    {
     "data": {
      "text/plain": [
       "Map([<Rule '/static/<filename>' (GET, HEAD, OPTIONS) -> static>])"
      ]
     },
     "execution_count": 13,
     "metadata": {},
     "output_type": "execute_result"
    }
   ],
   "source": [
    "app.url_map"
   ]
  },
  {
   "cell_type": "markdown",
   "metadata": {},
   "source": [
    "# Request Object\n",
    "\n",
    "The ``request`` object mentioned before will be used very often as it contain all information that we get from the user/browser when requesting our web application. There are three methods that are worth to mention:\n",
    "\n",
    "| method  | description  |\n",
    "|---|---|\n",
    "| get_data  | Returns the buffered data from the request body  |\n",
    "| get_json  | Returns a Python dictionary with the parsed JSON included in the body of the request  |\n",
    "| is_secure()  | Returns True if the request came through a secure (HTTPS) connection  |\n",
    "\n",
    "We have also many arguments that contain information on the request:\n",
    "\n",
    "| argument  | description  |\n",
    "|---|---|\n",
    "| form  | A dictionary with all the form fields submitted with the request  |\n",
    "| args  | A dictionary with all the arguments passed in the query string of the URL  |\n",
    "| values  | A dictionary that combines the values in form and args  |\n",
    "| cookies  | A dictionary with all the cookies included in the request  |\n",
    "| headers  | A dictionary with all the HTTP headers included in the request  |\n",
    "| files  | A dictionary with all the file uploads included with the request  |\n",
    "| blueprint  | The name of the Flask blueprint that is handling the reques  |\n",
    "| endpoint  | The name of the Flask endpoint that is handling the request. Flask uses the name of the view function as the endpoint name for a route  |\n",
    "| method  | The HTTP request method, such as GET or POST  |\n",
    "| scheme  | The URL scheme (http or https)  |\n",
    "| host  | The host defined in the request, including the port number if given by the client  |\n",
    "| path  | The path portion of the URL  |\n",
    "| query_string  | The query string portion of the URL, as a raw binary value  |\n",
    "| full_path  | The path and query string portions of the URL  |\n",
    "| url  | The complete URL requested by the client  |\n",
    "| base_url | Same as url, but without the query string component  |\n",
    "| remote_addr  | The IP address of the clien  |\n",
    "| environ  | The raw WSGI environment dictionary for the request  |\n",
    "\n",
    "An example of getting the url given by the user is presented below:"
   ]
  },
  {
   "cell_type": "code",
   "execution_count": 14,
   "metadata": {},
   "outputs": [
    {
     "name": "stdout",
     "output_type": "stream",
     "text": [
      " * Serving Flask app \"Hello\" (lazy loading)\n",
      " * Environment: production\n",
      "   WARNING: This is a development server. Do not use it in a production deployment.\n",
      "   Use a production WSGI server instead.\n",
      " * Debug mode: off\n"
     ]
    },
    {
     "name": "stderr",
     "output_type": "stream",
     "text": [
      " * Running on http://0.0.0.0:5000/ (Press CTRL+C to quit)\n",
      "172.17.0.1 - - [02/Aug/2019 22:20:37] \"GET / HTTP/1.1\" 200 -\n"
     ]
    }
   ],
   "source": [
    "from flask import Flask\n",
    "from flask import request\n",
    "\n",
    "app = Flask('Hello')\n",
    "\n",
    "@app.route('/')\n",
    "def show_url():\n",
    "    return str(request.base_url)\n",
    "\n",
    "if __name__ == '__main__':\n",
    "    app.run(host=\"0.0.0.0\")"
   ]
  },
  {
   "cell_type": "markdown",
   "metadata": {},
   "source": [
    "### Response\n",
    "\n",
    "We use many of the request arguments later in this and next notebooks. Most of the requests return also a response. There are four methods that the response object has:"
   ]
  },
  {
   "cell_type": "markdown",
   "metadata": {},
   "source": [
    "| method  | description  |\n",
    "|---|---|\n",
    "| set_cookie  | Adds a cookie to the response  |\n",
    "| delete_cookie  | Removes a cookie  |\n",
    "| set_data  | Sets the response body as a string or bytes value  |\n",
    "| get_data  | Gets the response body  |\n",
    "\n",
    "An example of setting up the cookie is given below. We use the ``make_response`` function to create a response object."
   ]
  },
  {
   "cell_type": "code",
   "execution_count": null,
   "metadata": {},
   "outputs": [],
   "source": [
    "from flask import make_response\n",
    "\n",
    "@app.route('/')\n",
    "def index():\n",
    "    response = make_response('Hello World!')\n",
    "    response.set_cookie('grant_id', '102')\n",
    "    return response"
   ]
  },
  {
   "cell_type": "markdown",
   "metadata": {},
   "source": [
    "We have also four arguments of the response object:\n",
    "\n",
    "| argument  | description  |\n",
    "|---|---|\n",
    "| status_code  | The numeric HTTP status code  |\n",
    "| headers  | A dictionary-like object with all the headers that will be sent with the response  |\n",
    "| content_length  | The length of the response body  |\n",
    "| content_type  | The media type of the response body  |\n",
    "\n",
    "\n",
    "We can set the status code of the response like 200, 404 and so on. We can set the headers or content type to application/json or other type."
   ]
  },
  {
   "cell_type": "markdown",
   "metadata": {},
   "source": [
    "#### Exercise 1. Create a REST API routing map for grants\n",
    "\n",
    "Just to point out a few features:\n",
    "\n",
    "- the application should accept POST data to add to the ``grants`` variable,\n",
    "- set routes to get the data about grants by ``id`` via ``GET`` method,\n",
    "- set routes to get the list of grants by ``id`` via ``GET`` method,\n",
    "- set routes to delete a grant by ``id`` via ``DELETE`` method.\n",
    "\n",
    "Use postman or curl to check if the application fullfil the requirements."
   ]
  },
  {
   "cell_type": "code",
   "execution_count": null,
   "metadata": {},
   "outputs": [],
   "source": [
    "!curl -d \"param1=value1&param2=value2\" -X POST http://localhost:500/<route>"
   ]
  },
  {
   "cell_type": "code",
   "execution_count": null,
   "metadata": {},
   "outputs": [],
   "source": [
    "# your code goes here"
   ]
  },
  {
   "cell_type": "markdown",
   "metadata": {},
   "source": [
    "# Preparing and parsing JSON\n",
    "\n",
    "A RESTful application uses JSON to communicate. It uses also vary of HTTP methods, where four are the most important: ``GET``, ``POST``, ``DELETE``, and ``PUT``. Python provides the ``json`` package to encode and build JSON data. An example of building JSON format responses is presented below."
   ]
  },
  {
   "cell_type": "code",
   "execution_count": 36,
   "metadata": {},
   "outputs": [
    {
     "name": "stdout",
     "output_type": "stream",
     "text": [
      "{\"id\": 1, \"title\": \"Sample grant\", \"description\": \"Very important one\", \"value\": 10000}\n"
     ]
    }
   ],
   "source": [
    "import json\n",
    "\n",
    "grantDict1 = {\n",
    "  'id': 1,\n",
    "  'title': 'Sample grant',\n",
    "  'description': 'Very important one',\n",
    "  'value': 10000\n",
    "}\n",
    "json_response = json.dumps(grantDict1)\n",
    "print(json_response)"
   ]
  },
  {
   "cell_type": "markdown",
   "metadata": {},
   "source": [
    "Using the ``dumps`` method we can easily convert almost any type to JSON. Below a list of dictionaries is converted into JSON."
   ]
  },
  {
   "cell_type": "code",
   "execution_count": 38,
   "metadata": {},
   "outputs": [
    {
     "name": "stdout",
     "output_type": "stream",
     "text": [
      "[{\"id\": 1, \"title\": \"Sample grant\", \"description\": \"Very important one\", \"value\": 10000}, {\"id\": 2, \"title\": \"Second sample grant\", \"description\": \"Even moreimportant one\", \"value\": 200000}]\n",
      "<class 'str'>\n"
     ]
    }
   ],
   "source": [
    "grantDict2 = {\n",
    "  'id': 2,\n",
    "  'title': 'Second sample grant',\n",
    "  'description': 'Even moreimportant one',\n",
    "  'value': 200000\n",
    "}\n",
    "\n",
    "list_of_grants = []\n",
    "list_of_grants.append(grantDict1)\n",
    "list_of_grants.append(grantDict2)\n",
    "\n",
    "json_response = json.dumps(list_of_grants)\n",
    "print(json_response)\n",
    "print(type(json_response))"
   ]
  },
  {
   "cell_type": "markdown",
   "metadata": {},
   "source": [
    "The ``loads`` method can be used to convert a string into objects that correspont to the JSON and Python as in the list\n",
    "\n",
    "| JSON  | Python  |\n",
    "|---|---|\n",
    "| object  |  dict |\n",
    "| array  | list  |\n",
    "| string  | str  |\n",
    "| number (int)  |  int |\n",
    "| number (real)  | float  |\n",
    "| true  | True  |\n",
    "| false  | False  |\n",
    "| null  | None  |"
   ]
  },
  {
   "cell_type": "code",
   "execution_count": 40,
   "metadata": {},
   "outputs": [
    {
     "name": "stdout",
     "output_type": "stream",
     "text": [
      "[{'id': 1, 'title': 'Sample grant', 'description': 'Very important one', 'value': 10000}, {'id': 2, 'title': 'Second sample grant', 'description': 'Even moreimportant one', 'value': 200000}]\n",
      "<class 'list'>\n"
     ]
    }
   ],
   "source": [
    "decoded = json.loads(json_response)\n",
    "print(decoded)\n",
    "print(type(decoded))"
   ]
  },
  {
   "cell_type": "markdown",
   "metadata": {},
   "source": [
    "#### Exercise 2. Convert previous exercise and add JSON responses and requests\n",
    "\n",
    "The goal is to response with a JSON to any ``GET`` request. Interpret a JSON ``POST`` request and interpret the payload. Please keep in mind to set the content type for each ``GET`` and ``POST`` request. It should be set to ``application/json``. Each ``POST`` should return with an error_code response:\n",
    "\n",
    "- 202 accepted,\n",
    "- 403 forbidden."
   ]
  },
  {
   "cell_type": "code",
   "execution_count": null,
   "metadata": {},
   "outputs": [],
   "source": [
    "# your code goes here"
   ]
  },
  {
   "cell_type": "markdown",
   "metadata": {},
   "source": [
    "# Upload files with Flask-Uploads\n",
    "\n",
    "\n"
   ]
  },
  {
   "cell_type": "code",
   "execution_count": null,
   "metadata": {},
   "outputs": [],
   "source": [
    "from flask import Flask\n",
    "from flask import request\n",
    "from flask_uploads import UploadSet, configure_uploads, ALL, patch_request_class\n",
    "\n",
    "app = Flask('Upload example')\n",
    "app.config['UPLOADS_DEFAULT_DEST'] = '/home/codete/workshop/'\n",
    "\n",
    "pdfs = UploadSet('files', ALL)\n",
    "configure_uploads(app, pdfs)\n",
    "patch_request_class(app)  # set maximum file size, default is 16MB\n",
    "\n",
    "@app.route('/upload', methods=['POST'])\n",
    "def upload_file():\n",
    "    filename = pdfs.save(request.files['file'])\n",
    "    file_url = pdfs.url(filename)\n",
    "    return \"Thank you: \" + str(file_url)\n",
    "\n",
    "if __name__ == '__main__':\n",
    "    app.run(host=\"0.0.0.0\")"
   ]
  },
  {
   "cell_type": "markdown",
   "metadata": {},
   "source": [
    "#### Exercise 3. Handle the upload files for images\n",
    "\n",
    "Change the code to accept only image files. You can use curl to test your solution:"
   ]
  },
  {
   "cell_type": "code",
   "execution_count": null,
   "metadata": {},
   "outputs": [],
   "source": [
    "!curl -F 'file=@<path>/<file>' -X POST http://127.0.0.1:5000/upload"
   ]
  },
  {
   "cell_type": "code",
   "execution_count": null,
   "metadata": {},
   "outputs": [],
   "source": [
    "# your code goes here"
   ]
  },
  {
   "cell_type": "markdown",
   "metadata": {},
   "source": [
    "# Error handling (optional)\n",
    "\n",
    "We can set a customized page for HTTP error codes like 404. We can use for it the annotation ``@app.errorhandler`` as presented below."
   ]
  },
  {
   "cell_type": "code",
   "execution_count": null,
   "metadata": {},
   "outputs": [],
   "source": [
    "from flask import Flask\n",
    "from flask import request\n",
    "app = Flask(__name__)\n",
    "\n",
    "@app.route('/')\n",
    "def hello_world():\n",
    "    return str(request.base_url)\n",
    "\n",
    "@app.errorhandler(404)\n",
    "def page_not_found(e):\n",
    "    return \"Not working :(\"\n",
    "\n",
    "if __name__ == '__main__':\n",
    "    app.run(host=\"0.0.0.0\")"
   ]
  },
  {
   "cell_type": "markdown",
   "metadata": {},
   "source": [
    "# Request hooks (optional)\n",
    "\n",
    "We can also setup request hooks to execute a function before or after a request.\n",
    "\n",
    "| annotation   | description  |\n",
    "|---|---|\n",
    "| before_first_request  | This annotation registers a function to execute before the first request is handled  |\n",
    "| before_request  | This annotation registers a function to execute before a request is handled  |\n",
    "| after_request  | This annotation registers a function to execute after a request is handled. The registered function will not be called in case an unhandled exception occurred in the request handler. The function must accept a response object and return the same or new response  |\n",
    "| teardown_request  |  Similar to after_request annotation but the registered function will always execute regardless of whether the request handler throws an exception or not |\n",
    "\n",
    "An example of ``@app.before_first_request`` is given below."
   ]
  },
  {
   "cell_type": "code",
   "execution_count": null,
   "metadata": {},
   "outputs": [],
   "source": [
    "@app.before_first_request\n",
    "def sample():\n",
    "    print(\"ok\")"
   ]
  }
 ],
 "metadata": {
  "kernelspec": {
   "display_name": "Python 3",
   "language": "python",
   "name": "python3"
  },
  "language_info": {
   "codemirror_mode": {
    "name": "ipython",
    "version": 3
   },
   "file_extension": ".py",
   "mimetype": "text/x-python",
   "name": "python",
   "nbconvert_exporter": "python",
   "pygments_lexer": "ipython3",
   "version": "3.6.8"
  }
 },
 "nbformat": 4,
 "nbformat_minor": 2
}
