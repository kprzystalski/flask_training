{
 "cells": [
  {
   "cell_type": "markdown",
   "metadata": {},
   "source": [
    "# Blueprints\n",
    "\n",
    "Flask uses a concept of blueprints for making application components and supporting common patterns within an application or across applications. Blueprints can greatly simplify how large applications work and provide a central means for Flask extensions to register operations on applications. A Blueprint object works similarly to a Flask application object, but it is not actually an application. Rather it is a blueprint of how to construct or extend an application."
   ]
  },
  {
   "cell_type": "code",
   "execution_count": null,
   "metadata": {},
   "outputs": [],
   "source": [
    "from flask import Blueprint, render_template, abort\n",
    "from jinja2 import TemplateNotFound\n",
    "\n",
    "grants_pages = Blueprint('grant_pages', __name__,\n",
    "                        template_folder='templates')\n",
    "\n",
    "@grants_pages.route('/add_grant')\n",
    "def add_grant():\n"
   ]
  },
  {
   "cell_type": "markdown",
   "metadata": {},
   "source": [
    "The blueprints needs to be registered in the next step:"
   ]
  },
  {
   "cell_type": "code",
   "execution_count": null,
   "metadata": {},
   "outputs": [],
   "source": [
    "from yourapplication.simple_page import simple_page\n",
    "\n",
    "app = Flask(__name__)\n",
    "app.register_blueprint(simple_page)"
   ]
  },
  {
   "cell_type": "markdown",
   "metadata": {},
   "source": [
    "#### Exercise 1. Move the grants and students functionality into two separate blueprints\n",
    "\n",
    "Create two blueprints and register it in the app."
   ]
  },
  {
   "cell_type": "markdown",
   "metadata": {},
   "source": [
    "# Setup Zenodo\n",
    "\n",
    "Zenodo is not easy to setup properly. You cannot get the code from https://github.com/zenodo/zenodo and just run it. Even github says it's not stable, at least the master branch. You can pick the production branch which is more stable, but still you need to apply some fixes before you setup the environment."
   ]
  },
  {
   "cell_type": "code",
   "execution_count": null,
   "metadata": {},
   "outputs": [],
   "source": [
    "docker-compose -f docker-compose.full.yml build"
   ]
  },
  {
   "cell_type": "markdown",
   "metadata": {},
   "source": [
    "Now you have several docker containers where in the web you have the zenodo command to work on the zenodo instance."
   ]
  }
 ],
 "metadata": {
  "kernelspec": {
   "display_name": "Python 3",
   "language": "python",
   "name": "python3"
  },
  "language_info": {
   "codemirror_mode": {
    "name": "ipython",
    "version": 3
   },
   "file_extension": ".py",
   "mimetype": "text/x-python",
   "name": "python",
   "nbconvert_exporter": "python",
   "pygments_lexer": "ipython3",
   "version": "3.6.8"
  }
 },
 "nbformat": 4,
 "nbformat_minor": 2
}
