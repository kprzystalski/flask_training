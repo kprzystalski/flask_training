{
 "cells": [
  {
   "cell_type": "markdown",
   "metadata": {},
   "source": [
    "# Static files\n",
    "\n",
    "There are many ways how to serve static files, but the most convinient and most secure is by using the ``send_from_directory`` function as given below."
   ]
  },
  {
   "cell_type": "code",
   "execution_count": 6,
   "metadata": {},
   "outputs": [
    {
     "name": "stdout",
     "output_type": "stream",
     "text": [
      " * Serving Flask app \"__main__\" (lazy loading)\n",
      " * Environment: production\n",
      "   WARNING: This is a development server. Do not use it in a production deployment.\n",
      "   Use a production WSGI server instead.\n",
      " * Debug mode: off\n"
     ]
    },
    {
     "name": "stderr",
     "output_type": "stream",
     "text": [
      " * Running on http://0.0.0.0:5000/ (Press CTRL+C to quit)\n"
     ]
    }
   ],
   "source": [
    "from flask import Flask, request, send_from_directory\n",
    "\n",
    "app = Flask(__name__, static_url_path='/home/codete/workshop/')\n",
    "\n",
    "@app.route('/images/<path:path>')\n",
    "def send_js(path):\n",
    "    return send_from_directory('static', path)\n",
    "\n",
    "if __name__ == \"__main__\":\n",
    "    app.run(host=\"0.0.0.0\")"
   ]
  },
  {
   "cell_type": "markdown",
   "metadata": {},
   "source": [
    "# Model View Controller pattern\n",
    "\n",
    "Model View Controller is a well-known architecture that is used in almost every web framework. It divide the application into three separate layers, where each is responsible for some totally different:\n",
    "\n",
    "- model is responsible for the database connection and data manipulation,\n",
    "- view is responsible for the visible part, in our case we have templates,\n",
    "- controller is responsible for the business logic (Python code). Django or some other frameworks implement MVC already, but some solutions like Flask allow to implement it, but doesn't have it available from scratch.\n",
    "\n",
    "![images/mvc.png](images/mvc.png)"
   ]
  },
  {
   "cell_type": "markdown",
   "metadata": {},
   "source": [
    "# Templates\n",
    "\n",
    "Templates are used to move the view part of the application into separate files. You can see below that even if you add a small HTML page as the output makes it less readable:"
   ]
  },
  {
   "cell_type": "code",
   "execution_count": null,
   "metadata": {},
   "outputs": [],
   "source": [
    "from flask import Flask, request, send_from_directory\n",
    "\n",
    "app = Flask(__name__)\n",
    "\n",
    "@app.route('/')\n",
    "def index():\n",
    "    return '''\n",
    "    <html>\n",
    "        <head>\n",
    "            <title>Important title</title>\n",
    "        </head>\n",
    "        <body>\n",
    "            Some text goes here\n",
    "        </body>\n",
    "    </html>\n",
    "    '''\n",
    "\n",
    "if __name__ == \"__main__\":\n",
    "    app.run(host=\"0.0.0.0\")"
   ]
  },
  {
   "cell_type": "markdown",
   "metadata": {},
   "source": [
    "It works, but adding more complex pages and mixing it with your Python code makes it hard to maintain. Especially, if the code that you use is used in many places."
   ]
  },
  {
   "cell_type": "markdown",
   "metadata": {},
   "source": [
    "# Django templates\n",
    "\n",
    "Most templates engines works in a similar way. We have a template HTML file that is rendered by the controller (Python) code. During the rendering we can send variables from the Python code into the template code as shown below. Django use their own template engine, but if you compare it to Jinja or almost any other template engine, you see many similarities. What is important to mention is that most templates are cached after each is generated for the first time. The example below is an example of a form that generated based on the ``formular`` variable got from the controller."
   ]
  },
  {
   "cell_type": "code",
   "execution_count": null,
   "metadata": {},
   "outputs": [],
   "source": [
    "%%writefile addproduct.html\n",
    "\n",
    "<!DOCTYPE html>\n",
    "<html lang=\"en\">\n",
    "<head>\n",
    "    <meta charset=\"UTF-8\">\n",
    "    <title>Title</title>\n",
    "</head>\n",
    "<body>\n",
    "    <form action=\"/addprodukt\" method=\"post\">\n",
    "        {{  formular.title }}\n",
    "        <input type=\"submit\" value=\"Add\" />\n",
    "    </form>\n",
    "</body>\n",
    "</html>"
   ]
  },
  {
   "cell_type": "markdown",
   "metadata": {},
   "source": [
    "A list of products can be generated when we send a list of dictionaries or just model objects to the template. In Django it can be done easily as below. We haven't covered the model part yet, so you need to believe me that the second line get all products from our database and save it to the ``produkt_liste`` variable."
   ]
  },
  {
   "cell_type": "code",
   "execution_count": null,
   "metadata": {},
   "outputs": [],
   "source": [
    "def produkts(request):\n",
    "    produkt_liste = Produkt.objects.all() # we will come here in the Database notebook\n",
    "    return render(request, 'produkts.html',{'produktliste':produkt_liste})"
   ]
  },
  {
   "cell_type": "markdown",
   "metadata": {},
   "source": [
    "The code that can be used in the template engine to loop over the list object and display all products can look as following:"
   ]
  },
  {
   "cell_type": "code",
   "execution_count": null,
   "metadata": {},
   "outputs": [],
   "source": [
    "{%  for produkt in produktliste %}\n",
    "\n",
    "    <div>{{ produkt.title }}</div>\n",
    "\n",
    "{%  endfor %}"
   ]
  },
  {
   "cell_type": "markdown",
   "metadata": {},
   "source": [
    "You may see a difference between {{ }} and {% %}. The first one display the content of the variable as a string. The second one is known as tags that can be a for loop, if statement or any other operation done directly within the template code. We have the following tags in Django template engine:\n",
    "\n",
    "| tag  | description  |\n",
    "|---|---|\n",
    "| autoescape  | Controls the current auto-escaping behavior  |\n",
    "| block  | Defines a block that can be overridden by child templates  |\n",
    "| comment  | Ignores everything between {% comment %} and {% endcomment %}  |\n",
    "| csrf_token  | This tag is used for CSRF protection  |\n",
    "| cycle  | Produces one of its arguments each time this tag is encountered  |\n",
    "| debug  | Outputs a whole load of debugging information, including the current context and imported modules  |\n",
    "| extends  | Signals that this template extends a parent template  |\n",
    "| filter  | Filters the contents of the block through one or more filters  |\n",
    "| firstof  | Outputs the first argument variable that is not False  |\n",
    "| for  | Loops over each item in an array  |\n",
    "| for … empty  | The for tag can take an optional {% empty %} clause whose text is displayed if the given array is empty or could not be found  |\n",
    "| if  | The {% if %} tag evaluates a variable, and if that variable is “true”  |\n",
    "| ifchanged  | heck if a value has changed from the last iteration of a loop  |\n",
    "| include  | Loads a template and renders it with the current context. This is a way of \"including\" other templates within a template.  |\n",
    "| load  | Loads a custom template tag set  |\n",
    "| lorem  | Displays random “lorem ipsum” Latin text.  |\n",
    "| now  | Displays the current date and/or time, using a format according to the given string.  |\n",
    "| regroup  | Regroups a list of alike objects by a common attribute.  |\n",
    "| resetcycle  | Resets a previous cycle so that it restarts from its first item at its next encounter  |\n",
    "| spaceless  | Removes whitespace between HTML tags  |\n",
    "| templatetag  | Outputs one of the syntax characters used to compose template tags  |\n",
    "| url  | Returns an absolute path reference (a URL without the domain name) matching a given view and optional parameters  |\n",
    "| verbatim  | Stops the template engine from rendering the contents of this block tag  |\n",
    "| widthratio  | For creating bar charts and such, this tag calculates the ratio of a given value to a maximum value, and then applies that ratio to a constant  |\n",
    "| with  | Caches a complex variable under a simpler name  |"
   ]
  },
  {
   "cell_type": "markdown",
   "metadata": {},
   "source": [
    "We have also many filters available in Django as given below.\n",
    "\n",
    "| filter  | description  |\n",
    "|---|---|\n",
    "| add  | Adds the argument to the value  |\n",
    "| addslashes  | Adds slashes before quotes  |\n",
    "| capfirst  | Capitalizes the first character of the value  |\n",
    "| center  | Centers the value in a field of a given width  |\n",
    "| cut  | Removes all values of arg from the given string  |\n",
    "| date  | Formats a date according to the given format  |\n",
    "| default  | If value evaluates to False, uses the given default  |\n",
    "| default_if_none  | If (and only if) value is None, uses the given default. Otherwise, uses the value  |\n",
    "| dictsort  | Takes a list of dictionaries and returns that list sorted by the key given in the argument  |\n",
    "| dictsortreversed  | Takes a list of dictionaries and returns that list sorted in reverse order by the key given in the argument  |\n",
    "| divisibleby  | Returns True if the value is divisible by the argument  |\n",
    "| escape  | Escapes a string’s HTML.  |\n",
    "| escapejs  | Escapes characters for use in JavaScript strings  |\n",
    "| filesizeformat  | Formats the value like a ‘human-readable’ file size  |\n",
    "| first  | Returns the first item in a list  |\n",
    "| floatformat  | When used without an argument, rounds a floating-point number to one decimal place  |\n",
    "| force_escape  | Applies HTML escaping to a string  |\n",
    "| get_digit  | Given a whole number, returns the requested digit, where 1 is the right-most digit, 2 is the second-right-most digit, etc.  |\n",
    "| join  | Joins a list with a string, like Python’s str.join(list)  |\n",
    "| json_script  | Safely outputs a Python object as JSON, wrapped in a script tag, ready for use with JavaScript  |\n",
    "| last  | Returns the last item in a list  |\n",
    "| length  | Returns the length of the value. This works for both strings and lists  |\n",
    "| length_is  | Returns True if the value’s length is the argument, or False otherwise  |\n",
    "| linebreaks  | Replaces line breaks in plain text with appropriate HTML  |\n",
    "| linebreaksbr  | Converts all newlines in a piece of plain text to HTML line breaks  |\n",
    "| linenumbers  | Displays text with line numbers  |\n",
    "| ljust  | Left-aligns the value in a field of a given width  |\n",
    "| lower  | Converts a string into all lowercase  |\n",
    "| make_list  | Returns the value turned into a list  |\n",
    "| phone2numeric  | Converts a phone number (possibly containing letters) to its numerical equivalent  |\n",
    "| pluralize  | Returns a plural suffix if the value is not 1,  |\n",
    "| random  | Returns a random item from the given list  |\n",
    "| rjust  | Right-aligns the value in a field of a given width  |\n",
    "| safe  | Marks a string as not requiring further HTML escaping prior to output. When autoescaping is off, this filter has no effect  |\n",
    "| safeseq  | Applies the safe filter to each element of a sequence  |\n",
    "| slice  | Returns a slice of the list  |\n",
    "| slugify  | Removes characters that aren’t alphanumerics, underscores, or hyphens. Converts to lowercase. Also strips leading and trailing whitespace  |\n",
    "| stringformat  | Formats the variable according to the argument, a string formatting specifier  |\n",
    "| striptags  | Makes all possible efforts to strip all HTML tags  |\n",
    "| time  | Formats a time according to the given format  |\n",
    "| timesince  | Formats a date as the time since that date  |\n",
    "| timeuntil  | Similar to timesince, except that it measures the time from now until the given date or datetime  |\n",
    "| title  | Converts a string into titlecase by making words start with an uppercase character and the remaining characters lowercase  |\n",
    "| truncatechars  | Truncates a string if it is longer than the specified number of characters  |\n",
    "| truncatechars_html  | imilar to truncatechars, except that it is aware of HTML tags  |\n",
    "| truncatewords  | Truncates a string after a certain number of words  |\n",
    "| truncatewords_html  | Similar to truncatewords, except that it is aware of HTML tags  |\n",
    "| unordered_list  | Recursively takes a self-nested list and returns an HTML unordered list  |\n",
    "| upper  | Converts a string into all uppercas  |\n",
    "| urlencode  | Escapes a value for use in a URL  |\n",
    "| urlize  | Converts URLs and email addresses in text into clickable links  |\n",
    "| urlizetrunc  | Converts URLs and email addresses into clickable links just like urlize, but truncates URLs longer than the given character limit  |\n",
    "| wordcount  | Returns the number of words  |\n",
    "| wordwrap  | Wraps words at specified line length  |\n",
    "| yesno  | Maps values for True, False  |\n",
    "\n",
    "\n",
    "An example of filter is given below"
   ]
  },
  {
   "cell_type": "code",
   "execution_count": null,
   "metadata": {},
   "outputs": [],
   "source": [
    "{{ value|lower }}"
   ]
  },
  {
   "cell_type": "markdown",
   "metadata": {},
   "source": [
    "# Jinja templates\n",
    "\n",
    "Jinja is based on Django templates and there is hard to find differences. The main difference is that Jinja can be used so in Django as with other framework like Flask. To build a templates-based view with Jinja in Flask we can use the ``render_template`` function:"
   ]
  },
  {
   "cell_type": "code",
   "execution_count": null,
   "metadata": {},
   "outputs": [],
   "source": [
    "from flask import request\n",
    "from flask import Flask, render_template\n",
    "\n",
    "app = Flask(__name__)\n",
    "\n",
    "@app.route('/')\n",
    "def index():\n",
    "    return render_template('list_grants.html', name=\"Karol\", grants_ids=[0,1,2,3,4,5])\n",
    "\n",
    "if __name__ == '__main__':\n",
    "    app.run(host=\"0.0.0.0\")"
   ]
  },
  {
   "cell_type": "markdown",
   "metadata": {},
   "source": [
    "Where the sample.html can be as:"
   ]
  },
  {
   "cell_type": "code",
   "execution_count": null,
   "metadata": {},
   "outputs": [],
   "source": [
    "%%writefile templates/sample.html\n",
    "<html>\n",
    "  <head>\n",
    "    <title>Template Example</title>\n",
    "  </head>\n",
    "  <body>\n",
    "    <div class=\"container\">\n",
    "      <h2>{{ name }}</h2>\n",
    "        <div>\n",
    "          {% for grant_id in grants_ids %}\n",
    "            {{ grant_id }}\n",
    "          {% endfor %}\n",
    "        </div>\n",
    "    </div>\n",
    "  </body>\n",
    "</html>"
   ]
  },
  {
   "cell_type": "markdown",
   "metadata": {},
   "source": [
    "# Template inheritance\n",
    "\n",
    "We can use the ``block`` and ``extends`` tags. The first tag is used to define a code part to be added in the extended template. Two templates examples are given below. Template inheritance is used to write less, especially, when we develop similar or same code in many places. It follows the DRY principle."
   ]
  },
  {
   "cell_type": "code",
   "execution_count": null,
   "metadata": {},
   "outputs": [],
   "source": [
    "{% extends \"layout.html\" %}\n",
    "{% block content %}\n",
    "        <div>\n",
    "          {% for grant_id in grants_ids %}\n",
    "            {{ grant_id }}\n",
    "          {% endfor %}\n",
    "        </div>\n",
    "{% endblock %}"
   ]
  },
  {
   "cell_type": "markdown",
   "metadata": {},
   "source": [
    "The layout that is used above can be defined as below:"
   ]
  },
  {
   "cell_type": "code",
   "execution_count": null,
   "metadata": {},
   "outputs": [],
   "source": [
    "%%writefile templates/layout.html\n",
    "<html>\n",
    "  <head>\n",
    "    <title>Layout Example</title>\n",
    "  </head>\n",
    "  <body>\n",
    "    <div class=\"container\">\n",
    "        {% block content %}{% endblock %}\n",
    "    </div>\n",
    "  </body>\n",
    "</html>"
   ]
  },
  {
   "cell_type": "markdown",
   "metadata": {},
   "source": [
    "#### Exercise 1. Build a grant webpage using Jinja2\n",
    "\n",
    "It should consist of ``block`` and ``extends`` tags for template inheritance. The following features should be implemented:\n",
    "\n",
    "- footer should be added to the layouts,\n",
    "- create one layout that adds with block the following partials: the menu, current page name and the content (below),\n",
    "- the content can be a list of grants, the grant details page, deletion page."
   ]
  },
  {
   "cell_type": "markdown",
   "metadata": {},
   "source": [
    "# Forms with Jinja\n",
    "\n",
    "We cover the topic of forms in the section dedicated to Databases. Even that, we can build simple forms using just HTML and Jinja to send the form data to the controller. An example of a form where the data is filled using Jinja is given below."
   ]
  },
  {
   "cell_type": "code",
   "execution_count": null,
   "metadata": {},
   "outputs": [],
   "source": [
    "<form action=\"/addprodukt\" method=\"post\">\n",
    "    <input type=\"text\" name=\"name\" value=\"{{  formular.name }}\"/>\n",
    "    <input type=\"submit\" value=\"Add\" />\n",
    "</form>"
   ]
  },
  {
   "cell_type": "markdown",
   "metadata": {},
   "source": [
    "We can next use the ``request.form`` to get the data from the form we get. We can access the form data"
   ]
  },
  {
   "cell_type": "markdown",
   "metadata": {},
   "source": [
    "#### Exercise 2. Build a form using Jinja\n",
    "\n",
    "In this exercise the goal is to build two forms for creating and editing the grant details."
   ]
  },
  {
   "cell_type": "code",
   "execution_count": null,
   "metadata": {},
   "outputs": [],
   "source": [
    "# your code goes here"
   ]
  },
  {
   "cell_type": "markdown",
   "metadata": {},
   "source": [
    "# Jinja macros\n",
    "\n",
    "Jinja macros are defined by user functions that can be used many times in the application. An example of a simple macro is given below. To reuse it, just use the ``import`` tag."
   ]
  },
  {
   "cell_type": "code",
   "execution_count": null,
   "metadata": {},
   "outputs": [],
   "source": [
    "%%writefile grants_list.html\n",
    "\n",
    "{% macro show_grant(grant) %}\n",
    "    <h3>{{ grant.title }}</h3>\n",
    "    <span class=\"date\">{{ post.date }}</span>\n",
    "    {{ post.description }}\n",
    "{% endmacro %}\n",
    "\n",
    "<h1>Grants</h1>\n",
    "{% for grant in grants %}\n",
    "    {{ show_grant(grant) }}\n",
    "{% endfor %}"
   ]
  },
  {
   "cell_type": "markdown",
   "metadata": {},
   "source": [
    "#### Exercise 3. Build a simple macro (helper) to distinguish between PhD grants and Institute grants\n",
    "\n",
    "Change the above macro and add a new argument of grants, to distinguish if it's a grant for PhD students, PostDocs or University Institutes. Please use the ``if`` and ``elif`` tags."
   ]
  },
  {
   "cell_type": "code",
   "execution_count": null,
   "metadata": {},
   "outputs": [],
   "source": [
    "# your code goes here"
   ]
  },
  {
   "cell_type": "markdown",
   "metadata": {},
   "source": [
    "# Flat pages\n",
    "\n",
    "Flask-FlatPages provides a collection of pages to your Flask application. Pages are built from “flat” text files as opposed to a relational database. It consist of a template, markdown and obviously controller. A sample template can be given as below:"
   ]
  },
  {
   "cell_type": "code",
   "execution_count": null,
   "metadata": {},
   "outputs": [],
   "source": [
    "%%writefile templates/grant.html\n",
    "<h2>{{ page.title }}</h2>\n",
    "<h4>{{ page.date }}</h4>\n",
    "\n",
    "{{ page.html|safe }}"
   ]
  },
  {
   "cell_type": "markdown",
   "metadata": {},
   "source": [
    "The markdown could be as below."
   ]
  },
  {
   "cell_type": "code",
   "execution_count": null,
   "metadata": {},
   "outputs": [],
   "source": [
    "%%writefile pages/grant-details.md\n",
    "title: Grant title#1\n",
    "date: 2019-08-05\n",
    "\n",
    "Very **important** grant"
   ]
  },
  {
   "cell_type": "markdown",
   "metadata": {},
   "source": [
    "Finally, we can set the function to handle the flat pages depending on given path:"
   ]
  },
  {
   "cell_type": "code",
   "execution_count": null,
   "metadata": {},
   "outputs": [],
   "source": [
    "from flask import Flask, render_template\n",
    "from flask_flatpages import FlatPages\n",
    "\n",
    "FLATPAGES_EXTENSION = '.md'\n",
    "\n",
    "app = Flask(__name__)\n",
    "app.config.from_object(__name__)\n",
    "pages = FlatPages(app)\n",
    "\n",
    "@app.route('/')\n",
    "def index():\n",
    "    return \"Hello World\"\n",
    "\n",
    "@app.route('/<path:path>/')\n",
    "def page(path):\n",
    "    page = pages.get_or_404(path)\n",
    "    return render_template('page.html', page=page)\n",
    "\n",
    "if __name__ == '__main__':\n",
    "    app.run(host=\"0.0.0.0\")"
   ]
  },
  {
   "cell_type": "markdown",
   "metadata": {},
   "source": [
    "As see above, we can specify not only int type for the parameter in the path (GET requests), but also other types like path above. The full list of types is given below.\n",
    "\n",
    "| type  | description  |\n",
    "|---|---|\n",
    "| string | (default) accepts any text without a slash |\n",
    "| int | accepts positive integers |\n",
    "| float | accepts positive floating point values |\n",
    "| path | like string but also accepts slashes |\n",
    "| uuid | accepts UUID strings|"
   ]
  },
  {
   "cell_type": "markdown",
   "metadata": {},
   "source": [
    "# Flask bootstrap\n",
    "\n",
    "The bootstrap components allow to easily add style to your frontend. You can check the component styles that are available at:[https://getbootstrap.com/docs/3.3/components/](https://getbootstrap.com/docs/3.3/components/). Please also check the version of the package you have installed as there are two available for version 3 and 4. Below there is one example how we can easily add styling to our application."
   ]
  },
  {
   "cell_type": "code",
   "execution_count": null,
   "metadata": {},
   "outputs": [],
   "source": [
    "from flask_bootstrap import Bootstrap\n",
    "from flask import Flask, render_template\n",
    "from flask import request\n",
    "app = Flask(__name__)\n",
    "Bootstrap(app)\n",
    "\n",
    "@app.route('/')\n",
    "def hello_world():\n",
    "    return render_template('sample.html')\n",
    "\n",
    "if __name__ == '__main__':\n",
    "    app.run(host=\"0.0.0.0\")"
   ]
  },
  {
   "cell_type": "markdown",
   "metadata": {},
   "source": [
    "The template using the bootstrap styles for the navigation can look as below:"
   ]
  },
  {
   "cell_type": "code",
   "execution_count": null,
   "metadata": {},
   "outputs": [],
   "source": [
    "{%- extends \"bootstrap/base.html\" %}\n",
    "{% block head %}\n",
    "{{super()}}\n",
    "{%- endblock %}\n",
    "\n",
    "{% block styles -%}\n",
    "    {{super()}}  {# do not forget to call super or Bootstrap's own stylesheets\n",
    "                    will disappear! #}\n",
    "    <link rel=\"stylesheet\" type=\"text/css\"\n",
    "          href=\"{{url_for('static', filename='sample-app.css')}}\">\n",
    "{% endblock %}\n",
    "\n",
    "{% block navbar %}\n",
    "<nav class=\"navbar navbar-default\">\n",
    "  <div class=\"container-fluid\">\n",
    "    <!-- Brand and toggle get grouped for better mobile display -->\n",
    "    <div class=\"navbar-header\">\n",
    "      <button type=\"button\" class=\"navbar-toggle collapsed\" data-toggle=\"collapse\" data-target=\"#bs-example-navbar-collapse-1\" aria-expanded=\"false\">\n",
    "        <span class=\"sr-only\">Toggle navigation</span>\n",
    "        <span class=\"icon-bar\"></span>\n",
    "        <span class=\"icon-bar\"></span>\n",
    "        <span class=\"icon-bar\"></span>\n",
    "      </button>\n",
    "      <a class=\"navbar-brand\" href=\"#\">Brand</a>\n",
    "    </div>\n",
    "\n",
    "    <!-- Collect the nav links, forms, and other content for toggling -->\n",
    "    <div class=\"collapse navbar-collapse\" id=\"bs-example-navbar-collapse-1\">\n",
    "      <ul class=\"nav navbar-nav\">\n",
    "        <li class=\"active\"><a href=\"#\">Link <span class=\"sr-only\">(current)</span></a></li>\n",
    "        <li><a href=\"#\">Link</a></li>\n",
    "        <li class=\"dropdown\">\n",
    "          <a href=\"#\" class=\"dropdown-toggle\" data-toggle=\"dropdown\" role=\"button\" aria-haspopup=\"true\" aria-expanded=\"false\">Dropdown <span class=\"caret\"></span></a>\n",
    "          <ul class=\"dropdown-menu\">\n",
    "            <li><a href=\"#\">Action</a></li>\n",
    "            <li><a href=\"#\">Another action</a></li>\n",
    "            <li><a href=\"#\">Something else here</a></li>\n",
    "            <li role=\"separator\" class=\"divider\"></li>\n",
    "            <li><a href=\"#\">Separated link</a></li>\n",
    "            <li role=\"separator\" class=\"divider\"></li>\n",
    "            <li><a href=\"#\">One more separated link</a></li>\n",
    "          </ul>\n",
    "        </li>\n",
    "      </ul>\n",
    "      <form class=\"navbar-form navbar-left\">\n",
    "        <div class=\"form-group\">\n",
    "          <input type=\"text\" class=\"form-control\" placeholder=\"Search\">\n",
    "        </div>\n",
    "        <button type=\"submit\" class=\"btn btn-default\">Submit</button>\n",
    "      </form>\n",
    "      <ul class=\"nav navbar-nav navbar-right\">\n",
    "        <li><a href=\"#\">Link</a></li>\n",
    "        <li class=\"dropdown\">\n",
    "          <a href=\"#\" class=\"dropdown-toggle\" data-toggle=\"dropdown\" role=\"button\" aria-haspopup=\"true\" aria-expanded=\"false\">Dropdown <span class=\"caret\"></span></a>\n",
    "          <ul class=\"dropdown-menu\">\n",
    "            <li><a href=\"#\">Action</a></li>\n",
    "            <li><a href=\"#\">Another action</a></li>\n",
    "            <li><a href=\"#\">Something else here</a></li>\n",
    "            <li role=\"separator\" class=\"divider\"></li>\n",
    "            <li><a href=\"#\">Separated link</a></li>\n",
    "          </ul>\n",
    "        </li>\n",
    "      </ul>\n",
    "    </div><!-- /.navbar-collapse -->\n",
    "  </div><!-- /.container-fluid -->\n",
    "</nav>\n",
    "{% endblock %}"
   ]
  },
  {
   "cell_type": "markdown",
   "metadata": {},
   "source": [
    "#### Exercise 4. Add bootstrap CSS styles\n",
    "\n",
    "Please take a look at the bootstrap component CSS styles [https://getbootstrap.com/docs/4.3/components/alerts/](https://getbootstrap.com/docs/4.3/components/alerts/) and add the styles to your list of grants and grant detail. Please modify the nav bar to be more appropriate for our example app."
   ]
  },
  {
   "cell_type": "markdown",
   "metadata": {},
   "source": [
    "# Error pages customization\n",
    "\n",
    "Flask does have it's own JSON encoder called ``jsonify``. To customize the error pages, you can use the ``errorhandler`` annotation or using ``abort`` function that returns the given error page."
   ]
  },
  {
   "cell_type": "code",
   "execution_count": null,
   "metadata": {},
   "outputs": [],
   "source": [
    "@app.errorhandler(404)\n",
    "def page_not_found(e):\n",
    "    return render_template('404.html')"
   ]
  },
  {
   "cell_type": "code",
   "execution_count": null,
   "metadata": {},
   "outputs": [],
   "source": [
    "from flask import abort\n",
    "\n",
    "@app.route('/')\n",
    "def hello_world():\n",
    "    if True:\n",
    "        abort(404)\n",
    "    return str(request.base_url)"
   ]
  }
 ],
 "metadata": {
  "kernelspec": {
   "display_name": "Python 3",
   "language": "python",
   "name": "python3"
  },
  "language_info": {
   "codemirror_mode": {
    "name": "ipython",
    "version": 3
   },
   "file_extension": ".py",
   "mimetype": "text/x-python",
   "name": "python",
   "nbconvert_exporter": "python",
   "pygments_lexer": "ipython3",
   "version": "3.6.8"
  }
 },
 "nbformat": 4,
 "nbformat_minor": 2
}
