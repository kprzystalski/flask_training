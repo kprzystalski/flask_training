{
 "cells": [
  {
   "cell_type": "markdown",
   "metadata": {},
   "source": [
    "# Web frameworks in Python\n",
    "\n",
    "There are many web frameworks available for Python, just to mention a few:\n",
    "\n",
    "- Pylons - [https://pylonsproject.org/](https://pylonsproject.org/)\n",
    "- Turbogears - [https://www.turbogears.org/](https://www.turbogears.org/)\n",
    "- Tornado - [https://www.tornadoweb.org/en/stable/](https://www.tornadoweb.org/en/stable/)\n",
    "- Pyramid - [https://trypyramid.com/](https://trypyramid.com/)\n",
    "- web2py - [http://www.web2py.com/](http://www.web2py.com/)\n",
    "- Django - [https://www.djangoproject.com/](https://www.djangoproject.com/)\n",
    "- and obvoiusly Flask - [https://flask.palletsprojects.com/en/1.0.x/](https://flask.palletsprojects.com/en/1.0.x/).\n",
    "\n",
    "![](images/frameworks.png)"
   ]
  },
  {
   "cell_type": "markdown",
   "metadata": {},
   "source": [
    "# Docker\n",
    "\n",
    "Docker is a standard now. It's so popular as git and is used to setup the development environment in a very efficient way. You don't need to follow any instructions to setup your environment. Instead you need to remember a short list of docker command and how to build a Dockerfile to avoid any issues related to the environment*. You need to install the docker daemon:\n",
    "- Windows: https://docs.docker.com/docker-for-windows/install/\n",
    "- Linux: https://docs.docker.com/install/linux/docker-ce/ubuntu/\n",
    "\n",
    "\n",
    "*-rarely developers publish badly developed Dockerfiles that makes it even more difficult to setup the environment"
   ]
  },
  {
   "cell_type": "markdown",
   "metadata": {},
   "source": [
    "#### Exercise 1. Configure the Dockerfile\n",
    "\n",
    "Add Flask-FlatPages, Django and PonyORM packages build a new image."
   ]
  },
  {
   "cell_type": "code",
   "execution_count": 3,
   "metadata": {},
   "outputs": [
    {
     "ename": "SyntaxError",
     "evalue": "invalid syntax (<ipython-input-3-dff085deaddc>, line 2)",
     "output_type": "error",
     "traceback": [
      "\u001b[0;36m  File \u001b[0;32m\"<ipython-input-3-dff085deaddc>\"\u001b[0;36m, line \u001b[0;32m2\u001b[0m\n\u001b[0;31m    FROM ubuntu:18.04\u001b[0m\n\u001b[0m              ^\u001b[0m\n\u001b[0;31mSyntaxError\u001b[0m\u001b[0;31m:\u001b[0m invalid syntax\n"
     ]
    }
   ],
   "source": [
    "%save Dockerfile\n",
    "\n",
    "FROM ubuntu:18.04\n",
    "\n",
    "ENV TZ=Europe/Warsaw\n",
    "RUN ln -snf /usr/share/zoneinfo/$TZ /etc/localtime && echo $TZ > /etc/timezone\n",
    "\n",
    "RUN apt update && apt install -y software-properties-common \\\n",
    "\twget \\\n",
    "\tgnupg2 \\\n",
    "\tapt-utils \\\n",
    "\tcurl\n",
    "RUN apt install -y \\\n",
    "\tjupyter-core \\\n",
    "\tjupyter-notebook \\\n",
    "\tpython3-pip \\\n",
    "\tpython3-virtualenv \\\n",
    "\tgit \\\n",
    "\tnodejs \\\n",
    "\tnpm\n",
    "\n",
    "RUN python3 -m virtualenv --python=/usr/bin/python3 /opt/venv\n",
    "\n",
    "RUN pip3 install \\\n",
    "\tflask \\\n",
    "\tvirtualenvwrapper \\\n",
    "\tsetuptools \\\n",
    "\tpipdeptree\n",
    "\n",
    "RUN useradd -ms /bin/bash codete\n",
    "RUN adduser codete sudo\n",
    "\n",
    "EXPOSE 8888\n",
    "EXPOSE 5000\n",
    "EXPOSE 6000\n",
    "EXPOSE 5050\n",
    "\n",
    "USER codete\n",
    "RUN mkdir /home/codete/workshop/\n",
    "WORKDIR /home/codete/workshop/\n",
    "\n",
    "CMD jupyter-notebook --ip=0.0.0.0 --NotebookApp.token='' --NotebookApp.password='' --no-browser --notebook-dir=/home/codete/workshop/"
   ]
  },
  {
   "cell_type": "markdown",
   "metadata": {},
   "source": [
    "#### Exercise 2. Push a image into dockerhub\n",
    "\n",
    "After building the image, you need to push it to the docker hub. To do so, we need to login in the first place."
   ]
  },
  {
   "cell_type": "code",
   "execution_count": null,
   "metadata": {},
   "outputs": [],
   "source": [
    "!docker login"
   ]
  },
  {
   "cell_type": "markdown",
   "metadata": {},
   "source": [
    "Be sure to build the image in the first place:"
   ]
  },
  {
   "cell_type": "code",
   "execution_count": null,
   "metadata": {},
   "outputs": [],
   "source": [
    "!docker build . -t <your_login>/<image_name>:<version>"
   ]
  },
  {
   "cell_type": "markdown",
   "metadata": {},
   "source": [
    "#### Exercise 3. Pull and create a docker container\n",
    "\n",
    "Please pull the ``kprzystalski/flask_training`` and create a container that based on this image. Go into shell after creating the container. Keep in mind to map the exposed ports."
   ]
  },
  {
   "cell_type": "markdown",
   "metadata": {},
   "source": [
    "# IDE\n",
    "\n",
    "- Atom - [https://atom.io/](https://atom.io/)\n",
    "- Jetbrains PyCharm - [https://www.jetbrains.com/pycharm/](https://www.jetbrains.com/pycharm/)\n",
    "- IDLE\n",
    "- any text editor\n",
    "\n",
    "\n",
    "### PyCharm\n",
    "\n",
    "Is one of the best IDE available on the market. There are many available plugins and teamplates ready to use. To add a package into a specific environment, you need to go to preferences and add it for a given interpreter. "
   ]
  },
  {
   "cell_type": "markdown",
   "metadata": {},
   "source": [
    "#### Exercise 4. Install Flask-Admin in PyCharm\n",
    "\n",
    "Use the hints above and install a packeg for a 3.6+ Python interpreter. AFTER you do it, please copy+paste the code below to check if the package is installed."
   ]
  },
  {
   "cell_type": "code",
   "execution_count": 2,
   "metadata": {},
   "outputs": [
    {
     "name": "stdout",
     "output_type": "stream",
     "text": [
      " * Serving Flask app \"__main__\" (lazy loading)\n",
      " * Environment: production\n",
      "   WARNING: This is a development server. Do not use it in a production deployment.\n",
      "   Use a production WSGI server instead.\n",
      " * Debug mode: off\n"
     ]
    },
    {
     "name": "stderr",
     "output_type": "stream",
     "text": [
      " * Running on http://127.0.0.1:5000/ (Press CTRL+C to quit)\n"
     ]
    }
   ],
   "source": [
    "from flask import Flask\n",
    "from flask_admin import Admin\n",
    "\n",
    "app = Flask(__name__)\n",
    "\n",
    "admin = Admin(app, name='sample admin', template_mode='bootstrap3')\n",
    "\n",
    "app.run()"
   ]
  }
 ],
 "metadata": {
  "kernelspec": {
   "display_name": "Python 3",
   "language": "python",
   "name": "python3"
  },
  "language_info": {
   "codemirror_mode": {
    "name": "ipython",
    "version": 3
   },
   "file_extension": ".py",
   "mimetype": "text/x-python",
   "name": "python",
   "nbconvert_exporter": "python",
   "pygments_lexer": "ipython3",
   "version": "3.6.8"
  }
 },
 "nbformat": 4,
 "nbformat_minor": 2
}
